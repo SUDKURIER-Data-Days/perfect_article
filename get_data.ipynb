{
 "cells": [
  {
   "cell_type": "code",
   "execution_count": 2,
   "source": [
    "import pandas as pd\n",
    "import numpy as np\n",
    "import ast\n",
    "from ast import literal_eval\n",
    "import plotly.express as px\n"
   ],
   "outputs": [],
   "metadata": {}
  },
  {
   "cell_type": "code",
   "execution_count": 3,
   "source": [
    "cxense = pd.read_csv(\"../data/OneDrive_2022-06-10/Hackathon Datensatz/cxense.csv\", decimal = '.')\n",
    "webtrekk = pd.read_csv(\"../data/OneDrive_2022-06-10/Hackathon Datensatz/webtrekk_metrics.csv\", decimal = '.')\n",
    "neue_cxense = pd.read_csv(\"../data/cx_topics.csv\")"
   ],
   "outputs": [],
   "metadata": {}
  },
  {
   "cell_type": "code",
   "execution_count": 20,
   "source": [
    "cxense.columns"
   ],
   "outputs": [
    {
     "output_type": "execute_result",
     "data": {
      "text/plain": [
       "Index(['Unnamed: 0', 'charactercount', 'wordcount', 'modifiedtime',\n",
       "       'articleid', 'body', 'category0', 'category1', 'category2', 'category3',\n",
       "       'createtime', 'kw-classification', 'kw-concept', 'kw-entity',\n",
       "       'kw-location', 'kw-person', 'og-article_section', 'og-image',\n",
       "       'og-image-height', 'og-image-width', 'og-title', 'og-url',\n",
       "       'publishtime', 'skr-amountimages', 'skr-amountother',\n",
       "       'skr-amountsocial', 'skr-amounttext', 'skr-amountvideo',\n",
       "       'skr-articlepriority', 'skr-contentstatearchive', 'skr-contenttype',\n",
       "       'skr-kicker', 'skr-paytype', 'teaser'],\n",
       "      dtype='object')"
      ]
     },
     "metadata": {},
     "execution_count": 20
    }
   ],
   "metadata": {}
  },
  {
   "cell_type": "code",
   "execution_count": 4,
   "source": [
    "neue_cxense = pd.read_csv(\"../data/cx_topics.csv\")\n",
    "\n",
    "neue_cxense = neue_cxense[neue_cxense['kw-themencluster'].notna()]\n",
    "\n",
    "neue_cxense['kw-themencluster'] = neue_cxense['kw-themencluster'].apply(lambda x: [y for y in literal_eval(x) if \"/\" not in y])\n",
    "neue_cxense.head(10)\n"
   ],
   "outputs": [
    {
     "output_type": "execute_result",
     "data": {
      "text/html": [
       "<div>\n",
       "<style scoped>\n",
       "    .dataframe tbody tr th:only-of-type {\n",
       "        vertical-align: middle;\n",
       "    }\n",
       "\n",
       "    .dataframe tbody tr th {\n",
       "        vertical-align: top;\n",
       "    }\n",
       "\n",
       "    .dataframe thead th {\n",
       "        text-align: right;\n",
       "    }\n",
       "</style>\n",
       "<table border=\"1\" class=\"dataframe\">\n",
       "  <thead>\n",
       "    <tr style=\"text-align: right;\">\n",
       "      <th></th>\n",
       "      <th>Unnamed: 0</th>\n",
       "      <th>articleid</th>\n",
       "      <th>kw-themencluster</th>\n",
       "    </tr>\n",
       "  </thead>\n",
       "  <tbody>\n",
       "    <tr>\n",
       "      <th>0</th>\n",
       "      <td>0</td>\n",
       "      <td>art11173920</td>\n",
       "      <td>[wirtschaft]</td>\n",
       "    </tr>\n",
       "    <tr>\n",
       "      <th>2</th>\n",
       "      <td>2</td>\n",
       "      <td>art11173937</td>\n",
       "      <td>[sport]</td>\n",
       "    </tr>\n",
       "    <tr>\n",
       "      <th>3</th>\n",
       "      <td>3</td>\n",
       "      <td>art11173835</td>\n",
       "      <td>[wirtschaft]</td>\n",
       "    </tr>\n",
       "    <tr>\n",
       "      <th>6</th>\n",
       "      <td>6</td>\n",
       "      <td>art11173988</td>\n",
       "      <td>[sicherheit]</td>\n",
       "    </tr>\n",
       "    <tr>\n",
       "      <th>7</th>\n",
       "      <td>7</td>\n",
       "      <td>art11174055</td>\n",
       "      <td>[sicherheit]</td>\n",
       "    </tr>\n",
       "    <tr>\n",
       "      <th>8</th>\n",
       "      <td>8</td>\n",
       "      <td>art11174184</td>\n",
       "      <td>[heimat]</td>\n",
       "    </tr>\n",
       "    <tr>\n",
       "      <th>9</th>\n",
       "      <td>9</td>\n",
       "      <td>art11174239</td>\n",
       "      <td>[sport]</td>\n",
       "    </tr>\n",
       "    <tr>\n",
       "      <th>10</th>\n",
       "      <td>10</td>\n",
       "      <td>art11173958</td>\n",
       "      <td>[wirtschaft, natur]</td>\n",
       "    </tr>\n",
       "    <tr>\n",
       "      <th>11</th>\n",
       "      <td>11</td>\n",
       "      <td>art11173912</td>\n",
       "      <td>[wissen]</td>\n",
       "    </tr>\n",
       "    <tr>\n",
       "      <th>13</th>\n",
       "      <td>13</td>\n",
       "      <td>art11174154</td>\n",
       "      <td>[wissen]</td>\n",
       "    </tr>\n",
       "  </tbody>\n",
       "</table>\n",
       "</div>"
      ],
      "text/plain": [
       "    Unnamed: 0    articleid     kw-themencluster\n",
       "0            0  art11173920         [wirtschaft]\n",
       "2            2  art11173937              [sport]\n",
       "3            3  art11173835         [wirtschaft]\n",
       "6            6  art11173988         [sicherheit]\n",
       "7            7  art11174055         [sicherheit]\n",
       "8            8  art11174184             [heimat]\n",
       "9            9  art11174239              [sport]\n",
       "10          10  art11173958  [wirtschaft, natur]\n",
       "11          11  art11173912             [wissen]\n",
       "13          13  art11174154             [wissen]"
      ]
     },
     "metadata": {},
     "execution_count": 4
    }
   ],
   "metadata": {}
  },
  {
   "cell_type": "code",
   "execution_count": 5,
   "source": [
    "neue_cxense['kw-themencluster']=neue_cxense['kw-themencluster'].apply(lambda x: x[0])\n",
    "neue_cxense"
   ],
   "outputs": [
    {
     "output_type": "execute_result",
     "data": {
      "text/html": [
       "<div>\n",
       "<style scoped>\n",
       "    .dataframe tbody tr th:only-of-type {\n",
       "        vertical-align: middle;\n",
       "    }\n",
       "\n",
       "    .dataframe tbody tr th {\n",
       "        vertical-align: top;\n",
       "    }\n",
       "\n",
       "    .dataframe thead th {\n",
       "        text-align: right;\n",
       "    }\n",
       "</style>\n",
       "<table border=\"1\" class=\"dataframe\">\n",
       "  <thead>\n",
       "    <tr style=\"text-align: right;\">\n",
       "      <th></th>\n",
       "      <th>Unnamed: 0</th>\n",
       "      <th>articleid</th>\n",
       "      <th>kw-themencluster</th>\n",
       "    </tr>\n",
       "  </thead>\n",
       "  <tbody>\n",
       "    <tr>\n",
       "      <th>0</th>\n",
       "      <td>0</td>\n",
       "      <td>art11173920</td>\n",
       "      <td>wirtschaft</td>\n",
       "    </tr>\n",
       "    <tr>\n",
       "      <th>2</th>\n",
       "      <td>2</td>\n",
       "      <td>art11173937</td>\n",
       "      <td>sport</td>\n",
       "    </tr>\n",
       "    <tr>\n",
       "      <th>3</th>\n",
       "      <td>3</td>\n",
       "      <td>art11173835</td>\n",
       "      <td>wirtschaft</td>\n",
       "    </tr>\n",
       "    <tr>\n",
       "      <th>6</th>\n",
       "      <td>6</td>\n",
       "      <td>art11173988</td>\n",
       "      <td>sicherheit</td>\n",
       "    </tr>\n",
       "    <tr>\n",
       "      <th>7</th>\n",
       "      <td>7</td>\n",
       "      <td>art11174055</td>\n",
       "      <td>sicherheit</td>\n",
       "    </tr>\n",
       "    <tr>\n",
       "      <th>...</th>\n",
       "      <td>...</td>\n",
       "      <td>...</td>\n",
       "      <td>...</td>\n",
       "    </tr>\n",
       "    <tr>\n",
       "      <th>99398</th>\n",
       "      <td>173</td>\n",
       "      <td>art10396255</td>\n",
       "      <td>sicherheit</td>\n",
       "    </tr>\n",
       "    <tr>\n",
       "      <th>99399</th>\n",
       "      <td>174</td>\n",
       "      <td>art10396199</td>\n",
       "      <td>heimat</td>\n",
       "    </tr>\n",
       "    <tr>\n",
       "      <th>99400</th>\n",
       "      <td>175</td>\n",
       "      <td>art10396264</td>\n",
       "      <td>heimat</td>\n",
       "    </tr>\n",
       "    <tr>\n",
       "      <th>99401</th>\n",
       "      <td>176</td>\n",
       "      <td>art10396147</td>\n",
       "      <td>wirtschaft</td>\n",
       "    </tr>\n",
       "    <tr>\n",
       "      <th>99402</th>\n",
       "      <td>177</td>\n",
       "      <td>art10397069</td>\n",
       "      <td>wirtschaft</td>\n",
       "    </tr>\n",
       "  </tbody>\n",
       "</table>\n",
       "<p>26920 rows × 3 columns</p>\n",
       "</div>"
      ],
      "text/plain": [
       "       Unnamed: 0    articleid kw-themencluster\n",
       "0               0  art11173920       wirtschaft\n",
       "2               2  art11173937            sport\n",
       "3               3  art11173835       wirtschaft\n",
       "6               6  art11173988       sicherheit\n",
       "7               7  art11174055       sicherheit\n",
       "...           ...          ...              ...\n",
       "99398         173  art10396255       sicherheit\n",
       "99399         174  art10396199           heimat\n",
       "99400         175  art10396264           heimat\n",
       "99401         176  art10396147       wirtschaft\n",
       "99402         177  art10397069       wirtschaft\n",
       "\n",
       "[26920 rows x 3 columns]"
      ]
     },
     "metadata": {},
     "execution_count": 5
    }
   ],
   "metadata": {}
  },
  {
   "cell_type": "code",
   "execution_count": 55,
   "source": [
    "def filter_data(df):\n",
    "    columns = ['articleid', 'charactercount', 'wordcount']\n",
    "    df = df[['articleid', 'charactercount', 'wordcount', 'skr-amountimages', 'skr-amounttext', 'teaser', 'publishtime', 'og-title', 'og-image']].copy()\n",
    "    return df"
   ],
   "outputs": [],
   "metadata": {}
  },
  {
   "cell_type": "code",
   "execution_count": 56,
   "source": [
    "cxsense_filtered = filter_data(cxense)"
   ],
   "outputs": [],
   "metadata": {}
  },
  {
   "cell_type": "code",
   "execution_count": 57,
   "source": [
    "cxsense_filtered.head()"
   ],
   "outputs": [
    {
     "output_type": "execute_result",
     "data": {
      "text/html": [
       "<div>\n",
       "<style scoped>\n",
       "    .dataframe tbody tr th:only-of-type {\n",
       "        vertical-align: middle;\n",
       "    }\n",
       "\n",
       "    .dataframe tbody tr th {\n",
       "        vertical-align: top;\n",
       "    }\n",
       "\n",
       "    .dataframe thead th {\n",
       "        text-align: right;\n",
       "    }\n",
       "</style>\n",
       "<table border=\"1\" class=\"dataframe\">\n",
       "  <thead>\n",
       "    <tr style=\"text-align: right;\">\n",
       "      <th></th>\n",
       "      <th>articleid</th>\n",
       "      <th>charactercount</th>\n",
       "      <th>wordcount</th>\n",
       "      <th>skr-amountimages</th>\n",
       "      <th>skr-amounttext</th>\n",
       "      <th>teaser</th>\n",
       "      <th>publishtime</th>\n",
       "      <th>og-title</th>\n",
       "      <th>og-image</th>\n",
       "    </tr>\n",
       "  </thead>\n",
       "  <tbody>\n",
       "    <tr>\n",
       "      <th>0</th>\n",
       "      <td>art11157205</td>\n",
       "      <td>3006</td>\n",
       "      <td>524</td>\n",
       "      <td>4.0</td>\n",
       "      <td>2.0</td>\n",
       "      <td>Die 43 Jahre alte Fridolinsbrücke zwischen Ste...</td>\n",
       "      <td>2022-05-30T09:30:00.000Z</td>\n",
       "      <td>Bad Säckingen: Im Juni wird die Fridolinsbrück...</td>\n",
       "      <td>https://www.suedkurier.de/storage/image/6/1/1/...</td>\n",
       "    </tr>\n",
       "    <tr>\n",
       "      <th>1</th>\n",
       "      <td>art11160494</td>\n",
       "      <td>1418</td>\n",
       "      <td>247</td>\n",
       "      <td>1.0</td>\n",
       "      <td>0.0</td>\n",
       "      <td>Der 66-Jährige kann nicht wie geplant auftrete...</td>\n",
       "      <td>2022-05-29T11:59:17.000Z</td>\n",
       "      <td>Berlin: Herbert Grönemeyer bestürzt über Absag...</td>\n",
       "      <td>https://www.suedkurier.de/storage/image/9/4/6/...</td>\n",
       "    </tr>\n",
       "    <tr>\n",
       "      <th>2</th>\n",
       "      <td>art11160528</td>\n",
       "      <td>4045</td>\n",
       "      <td>655</td>\n",
       "      <td>NaN</td>\n",
       "      <td>NaN</td>\n",
       "      <td>Zum Saisonabschluss wollte das Orchester ein „...</td>\n",
       "      <td>2022-05-29T12:43:00.000Z</td>\n",
       "      <td>Konzert: Vom Weltschmerz vergangener Zeiten: S...</td>\n",
       "      <td>https://www.suedkurier.de/storage/image/5/7/6/...</td>\n",
       "    </tr>\n",
       "    <tr>\n",
       "      <th>3</th>\n",
       "      <td>art11160425</td>\n",
       "      <td>4168</td>\n",
       "      <td>749</td>\n",
       "      <td>1.0</td>\n",
       "      <td>0.0</td>\n",
       "      <td>Pauken, Pomp und «Union Jacks» an jeder Ecke: ...</td>\n",
       "      <td>2022-05-29T10:13:13.000Z</td>\n",
       "      <td>London-: «Hauptsache, die Queen ist happy» - L...</td>\n",
       "      <td>https://www.suedkurier.de/storage/image/1/6/5/...</td>\n",
       "    </tr>\n",
       "    <tr>\n",
       "      <th>4</th>\n",
       "      <td>art11158574</td>\n",
       "      <td>2977</td>\n",
       "      <td>552</td>\n",
       "      <td>1.0</td>\n",
       "      <td>2.0</td>\n",
       "      <td>Kevin Smith führt die Familientradition weiter...</td>\n",
       "      <td>2022-05-29T12:30:00.000Z</td>\n",
       "      <td>Dachsberg: Kevin und Martina Smith brennen wei...</td>\n",
       "      <td>https://www.suedkurier.de/storage/image/5/8/6/...</td>\n",
       "    </tr>\n",
       "  </tbody>\n",
       "</table>\n",
       "</div>"
      ],
      "text/plain": [
       "     articleid  charactercount  wordcount  skr-amountimages  skr-amounttext  \\\n",
       "0  art11157205            3006        524               4.0             2.0   \n",
       "1  art11160494            1418        247               1.0             0.0   \n",
       "2  art11160528            4045        655               NaN             NaN   \n",
       "3  art11160425            4168        749               1.0             0.0   \n",
       "4  art11158574            2977        552               1.0             2.0   \n",
       "\n",
       "                                              teaser  \\\n",
       "0  Die 43 Jahre alte Fridolinsbrücke zwischen Ste...   \n",
       "1  Der 66-Jährige kann nicht wie geplant auftrete...   \n",
       "2  Zum Saisonabschluss wollte das Orchester ein „...   \n",
       "3  Pauken, Pomp und «Union Jacks» an jeder Ecke: ...   \n",
       "4  Kevin Smith führt die Familientradition weiter...   \n",
       "\n",
       "                publishtime  \\\n",
       "0  2022-05-30T09:30:00.000Z   \n",
       "1  2022-05-29T11:59:17.000Z   \n",
       "2  2022-05-29T12:43:00.000Z   \n",
       "3  2022-05-29T10:13:13.000Z   \n",
       "4  2022-05-29T12:30:00.000Z   \n",
       "\n",
       "                                            og-title  \\\n",
       "0  Bad Säckingen: Im Juni wird die Fridolinsbrück...   \n",
       "1  Berlin: Herbert Grönemeyer bestürzt über Absag...   \n",
       "2  Konzert: Vom Weltschmerz vergangener Zeiten: S...   \n",
       "3  London-: «Hauptsache, die Queen ist happy» - L...   \n",
       "4  Dachsberg: Kevin und Martina Smith brennen wei...   \n",
       "\n",
       "                                            og-image  \n",
       "0  https://www.suedkurier.de/storage/image/6/1/1/...  \n",
       "1  https://www.suedkurier.de/storage/image/9/4/6/...  \n",
       "2  https://www.suedkurier.de/storage/image/5/7/6/...  \n",
       "3  https://www.suedkurier.de/storage/image/1/6/5/...  \n",
       "4  https://www.suedkurier.de/storage/image/5/8/6/...  "
      ]
     },
     "metadata": {},
     "execution_count": 57
    }
   ],
   "metadata": {}
  },
  {
   "cell_type": "code",
   "execution_count": 58,
   "source": [
    "webtrekk.columns"
   ],
   "outputs": [
    {
     "output_type": "execute_result",
     "data": {
      "text/plain": [
       "Index(['Unnamed: 0', 'Seiten', 'Autor', 'Artikel Themenfeld', 'Visits Gesamt',\n",
       "       'Visits - Endgeräte - PC/Laptop', 'Visits - Endgeräte - Mobiltelefon',\n",
       "       'Visits - Endgeräte - Tablet', 'Visits - Endgeräte - Sonstige',\n",
       "       'Einstiege PI Direkt (NoUse)', 'Einstiege PI NL (NoUse)',\n",
       "       'Einstiege PI Push (NoUse)', 'Einstiege PI SEO (NoUse)',\n",
       "       'Einstiege PI SK Artikel (NoUse)', 'Einstiege PI SK Startseite (NoUse)',\n",
       "       'Einstiege PI SK Übersichtsseiten (NoUse)',\n",
       "       'Einstiege PI Social (NoUse)', 'Onlinekäufe Abo (im Visit)', 'Visitors',\n",
       "       'Paywall-Besucher (Visitor)', 'Artikel gelesen - Artikelende erreicht',\n",
       "       'Artikel gelesen - Artikelende erreicht - abo',\n",
       "       'Abonnenten, SK Gesamt (Basis, Digital und Print)',\n",
       "       'Lesedauer SOLL (mit Bilder und Video)', 'Lesedauer Abweichung',\n",
       "       'Lesedauer Abweichung - abo', 'Visitor, Artikel zu 25% gelesen',\n",
       "       'Visitor, Artikel zu 50% gelesen', 'Visitor, Artikel zu 75% gelesen',\n",
       "       'Visitor, Artikel zu 100% gelesen', 'Score_Summe_Gesamt'],\n",
       "      dtype='object')"
      ]
     },
     "metadata": {},
     "execution_count": 58
    }
   ],
   "metadata": {}
  },
  {
   "cell_type": "code",
   "execution_count": 59,
   "source": [
    "def filter_data_webtrekk(df):\n",
    "    df = df[['Seiten', 'Visits Gesamt', 'Onlinekäufe Abo (im Visit)', 'Artikel gelesen - Artikelende erreicht','Lesedauer Abweichung', 'Visitors', 'Visitor, Artikel zu 25% gelesen',\n",
    "    'Visitor, Artikel zu 50% gelesen', 'Visitor, Artikel zu 75% gelesen','Visitor, Artikel zu 100% gelesen', 'Score_Summe_Gesamt', 'Abonnenten, SK Gesamt (Basis, Digital und Print)']].copy()\n",
    "    df = df.rename({'Seiten': 'articleid'}, axis=1)\n",
    "    return df"
   ],
   "outputs": [],
   "metadata": {}
  },
  {
   "cell_type": "code",
   "execution_count": 60,
   "source": [
    "webtrekk_filtered = filter_data_webtrekk(webtrekk)"
   ],
   "outputs": [],
   "metadata": {}
  },
  {
   "cell_type": "code",
   "execution_count": 61,
   "source": [
    "datensatz = cxsense_filtered.merge(webtrekk_filtered, on='articleid')\n",
    "datensatz = datensatz.merge(neue_cxense, on='articleid', how='right')\n"
   ],
   "outputs": [],
   "metadata": {}
  },
  {
   "cell_type": "code",
   "execution_count": 62,
   "source": [
    "def aufraeumen(df):\n",
    "    df = df[df['charactercount']<12500]\n",
    "    df = df[df['charactercount']>500]\n",
    "    df = df[df['Visitors']>20]\n",
    "    df['anteil zuende'] = df['Artikel gelesen - Artikelende erreicht']/df['Visitors']*100\n",
    "    # manche sind mehr als 100%, die werden zu 100:\n",
    "    df.loc[df['anteil zuende']>100,'anteil zuende'] = 100\n",
    "    datensatz.sort_values(['Visitors'])\n",
    "    df = df.drop_duplicates(subset='articleid', keep=\"last\")\n",
    "    df = df[df['Artikel gelesen - Artikelende erreicht'].notna()]\n",
    "    return df\n"
   ],
   "outputs": [],
   "metadata": {}
  },
  {
   "cell_type": "code",
   "execution_count": 63,
   "source": [
    "alle_articles = aufraeumen(datensatz)"
   ],
   "outputs": [],
   "metadata": {}
  },
  {
   "cell_type": "code",
   "execution_count": 64,
   "source": [
    "alle_articles.sort_values(['anteil zuende', 'Visitors' ])"
   ],
   "outputs": [
    {
     "output_type": "execute_result",
     "data": {
      "text/html": [
       "<div>\n",
       "<style scoped>\n",
       "    .dataframe tbody tr th:only-of-type {\n",
       "        vertical-align: middle;\n",
       "    }\n",
       "\n",
       "    .dataframe tbody tr th {\n",
       "        vertical-align: top;\n",
       "    }\n",
       "\n",
       "    .dataframe thead th {\n",
       "        text-align: right;\n",
       "    }\n",
       "</style>\n",
       "<table border=\"1\" class=\"dataframe\">\n",
       "  <thead>\n",
       "    <tr style=\"text-align: right;\">\n",
       "      <th></th>\n",
       "      <th>articleid</th>\n",
       "      <th>charactercount</th>\n",
       "      <th>wordcount</th>\n",
       "      <th>skr-amountimages</th>\n",
       "      <th>skr-amounttext</th>\n",
       "      <th>teaser</th>\n",
       "      <th>publishtime</th>\n",
       "      <th>og-title</th>\n",
       "      <th>og-image</th>\n",
       "      <th>Visits Gesamt</th>\n",
       "      <th>...</th>\n",
       "      <th>Visitors</th>\n",
       "      <th>Visitor, Artikel zu 25% gelesen</th>\n",
       "      <th>Visitor, Artikel zu 50% gelesen</th>\n",
       "      <th>Visitor, Artikel zu 75% gelesen</th>\n",
       "      <th>Visitor, Artikel zu 100% gelesen</th>\n",
       "      <th>Score_Summe_Gesamt</th>\n",
       "      <th>Abonnenten, SK Gesamt (Basis, Digital und Print)</th>\n",
       "      <th>Unnamed: 0</th>\n",
       "      <th>kw-themencluster</th>\n",
       "      <th>anteil zuende</th>\n",
       "    </tr>\n",
       "  </thead>\n",
       "  <tbody>\n",
       "    <tr>\n",
       "      <th>11008</th>\n",
       "      <td>art11049899</td>\n",
       "      <td>1383.0</td>\n",
       "      <td>253.0</td>\n",
       "      <td>NaN</td>\n",
       "      <td>NaN</td>\n",
       "      <td>Er soll das Gefühl vermitteln zuhause zu sein,...</td>\n",
       "      <td>2022-02-18T05:00:00.000Z</td>\n",
       "      <td>(Anzeige) Villingen-Schwenningen: Heimathafen ...</td>\n",
       "      <td>https://www.suedkurier.de/storage/image/4/5/7/...</td>\n",
       "      <td>844.0</td>\n",
       "      <td>...</td>\n",
       "      <td>791.0</td>\n",
       "      <td>28.0</td>\n",
       "      <td>1.0</td>\n",
       "      <td>18.0</td>\n",
       "      <td>2.0</td>\n",
       "      <td>22.35</td>\n",
       "      <td>136.0</td>\n",
       "      <td>263</td>\n",
       "      <td>leben</td>\n",
       "      <td>0.126422</td>\n",
       "    </tr>\n",
       "    <tr>\n",
       "      <th>25296</th>\n",
       "      <td>art10500253</td>\n",
       "      <td>7508.0</td>\n",
       "      <td>1458.0</td>\n",
       "      <td>4.0</td>\n",
       "      <td>1.0</td>\n",
       "      <td>Ab dem 28. April zeigt die ARD neue Folgen der...</td>\n",
       "      <td>2020-04-28T10:00:00.000Z</td>\n",
       "      <td>Fernsehen: Warum „Die Heiland“ für Schauspiele...</td>\n",
       "      <td>https://www.suedkurier.de/storage/image/7/2/4/...</td>\n",
       "      <td>3523.0</td>\n",
       "      <td>...</td>\n",
       "      <td>3451.0</td>\n",
       "      <td>NaN</td>\n",
       "      <td>NaN</td>\n",
       "      <td>NaN</td>\n",
       "      <td>4.0</td>\n",
       "      <td>18.50</td>\n",
       "      <td>7.0</td>\n",
       "      <td>158</td>\n",
       "      <td>gesellschaft</td>\n",
       "      <td>0.130397</td>\n",
       "    </tr>\n",
       "    <tr>\n",
       "      <th>23368</th>\n",
       "      <td>art10581152</td>\n",
       "      <td>3576.0</td>\n",
       "      <td>694.0</td>\n",
       "      <td>NaN</td>\n",
       "      <td>NaN</td>\n",
       "      <td>André Rieu gilt als Klassik-Künstler der Super...</td>\n",
       "      <td>2020-08-28T12:00:00.000Z</td>\n",
       "      <td>Musik: Warum Walzerkönig André Rieu jetzt im K...</td>\n",
       "      <td>https://www.suedkurier.de/storage/image/5/6/6/...</td>\n",
       "      <td>913.0</td>\n",
       "      <td>...</td>\n",
       "      <td>893.0</td>\n",
       "      <td>NaN</td>\n",
       "      <td>NaN</td>\n",
       "      <td>NaN</td>\n",
       "      <td>NaN</td>\n",
       "      <td>18.60</td>\n",
       "      <td>3.0</td>\n",
       "      <td>132</td>\n",
       "      <td>kultur</td>\n",
       "      <td>0.167973</td>\n",
       "    </tr>\n",
       "    <tr>\n",
       "      <th>25330</th>\n",
       "      <td>art10501137</td>\n",
       "      <td>5590.0</td>\n",
       "      <td>978.0</td>\n",
       "      <td>6.0</td>\n",
       "      <td>2.0</td>\n",
       "      <td>In den 1990er-Jahren häuften sich Berichte übe...</td>\n",
       "      <td>2020-04-26T15:00:00.000Z</td>\n",
       "      <td>Außerirdisches Leben: Schon lange hat sich kei...</td>\n",
       "      <td>https://www.suedkurier.de/storage/image/4/1/6/...</td>\n",
       "      <td>6110.0</td>\n",
       "      <td>...</td>\n",
       "      <td>5899.0</td>\n",
       "      <td>NaN</td>\n",
       "      <td>NaN</td>\n",
       "      <td>NaN</td>\n",
       "      <td>8.0</td>\n",
       "      <td>22.05</td>\n",
       "      <td>27.0</td>\n",
       "      <td>95</td>\n",
       "      <td>wissen</td>\n",
       "      <td>0.169520</td>\n",
       "    </tr>\n",
       "    <tr>\n",
       "      <th>27036</th>\n",
       "      <td>art10397278</td>\n",
       "      <td>2360.0</td>\n",
       "      <td>398.0</td>\n",
       "      <td>1.0</td>\n",
       "      <td>5.0</td>\n",
       "      <td>Im vierten Teil unserer SÜDKURIER-Serie geht e...</td>\n",
       "      <td>2020-01-03T15:59:00.000Z</td>\n",
       "      <td>Sport: Große Bilder der Sportgeschichte: Ringe...</td>\n",
       "      <td>https://www.suedkurier.de/storage/image/4/5/0/...</td>\n",
       "      <td>1222.0</td>\n",
       "      <td>...</td>\n",
       "      <td>1182.0</td>\n",
       "      <td>NaN</td>\n",
       "      <td>1.0</td>\n",
       "      <td>NaN</td>\n",
       "      <td>1.0</td>\n",
       "      <td>2.60</td>\n",
       "      <td>4.0</td>\n",
       "      <td>139</td>\n",
       "      <td>sport</td>\n",
       "      <td>0.211506</td>\n",
       "    </tr>\n",
       "    <tr>\n",
       "      <th>...</th>\n",
       "      <td>...</td>\n",
       "      <td>...</td>\n",
       "      <td>...</td>\n",
       "      <td>...</td>\n",
       "      <td>...</td>\n",
       "      <td>...</td>\n",
       "      <td>...</td>\n",
       "      <td>...</td>\n",
       "      <td>...</td>\n",
       "      <td>...</td>\n",
       "      <td>...</td>\n",
       "      <td>...</td>\n",
       "      <td>...</td>\n",
       "      <td>...</td>\n",
       "      <td>...</td>\n",
       "      <td>...</td>\n",
       "      <td>...</td>\n",
       "      <td>...</td>\n",
       "      <td>...</td>\n",
       "      <td>...</td>\n",
       "      <td>...</td>\n",
       "    </tr>\n",
       "    <tr>\n",
       "      <th>12857</th>\n",
       "      <td>art11005171</td>\n",
       "      <td>3507.0</td>\n",
       "      <td>541.0</td>\n",
       "      <td>2.0</td>\n",
       "      <td>1.0</td>\n",
       "      <td>Die Landesregierung hat nach Weihnachten einma...</td>\n",
       "      <td>2021-12-29T05:00:00.000Z</td>\n",
       "      <td>Corona: FFP2-Masken in BW Pflicht?</td>\n",
       "      <td>https://www.suedkurier.de/storage/image/0/3/0/...</td>\n",
       "      <td>77424.0</td>\n",
       "      <td>...</td>\n",
       "      <td>70383.0</td>\n",
       "      <td>10507.0</td>\n",
       "      <td>205.0</td>\n",
       "      <td>13709.0</td>\n",
       "      <td>225.0</td>\n",
       "      <td>70.00</td>\n",
       "      <td>3996.0</td>\n",
       "      <td>736</td>\n",
       "      <td>heimat</td>\n",
       "      <td>100.000000</td>\n",
       "    </tr>\n",
       "    <tr>\n",
       "      <th>26164</th>\n",
       "      <td>art10455203</td>\n",
       "      <td>3055.0</td>\n",
       "      <td>484.0</td>\n",
       "      <td>2.0</td>\n",
       "      <td>3.0</td>\n",
       "      <td>In vielen Firmen ist die Nervosität aufgrund d...</td>\n",
       "      <td>2020-02-27T17:31:00.000Z</td>\n",
       "      <td>Arbeitsleben: Coronavirus: Wann darf ich als A...</td>\n",
       "      <td>https://www.suedkurier.de/storage/image/7/6/3/...</td>\n",
       "      <td>80630.0</td>\n",
       "      <td>...</td>\n",
       "      <td>76743.0</td>\n",
       "      <td>2960.0</td>\n",
       "      <td>39.0</td>\n",
       "      <td>4109.0</td>\n",
       "      <td>16301.0</td>\n",
       "      <td>34.70</td>\n",
       "      <td>1393.0</td>\n",
       "      <td>143</td>\n",
       "      <td>wirtschaft</td>\n",
       "      <td>100.000000</td>\n",
       "    </tr>\n",
       "    <tr>\n",
       "      <th>14199</th>\n",
       "      <td>art10669477</td>\n",
       "      <td>1485.0</td>\n",
       "      <td>257.0</td>\n",
       "      <td>4.0</td>\n",
       "      <td>0.0</td>\n",
       "      <td>Wie viele Menschen in Konstanz sind mit dem Co...</td>\n",
       "      <td>2021-11-08T10:12:00.000Z</td>\n",
       "      <td>Region: So viele Corona-Fälle gibt es in Ihrem...</td>\n",
       "      <td>https://www.suedkurier.de/storage/image/3/8/6/...</td>\n",
       "      <td>525817.0</td>\n",
       "      <td>...</td>\n",
       "      <td>94385.0</td>\n",
       "      <td>2492.0</td>\n",
       "      <td>224.0</td>\n",
       "      <td>3417.0</td>\n",
       "      <td>17917.0</td>\n",
       "      <td>54.05</td>\n",
       "      <td>21464.0</td>\n",
       "      <td>131</td>\n",
       "      <td>verkehr</td>\n",
       "      <td>100.000000</td>\n",
       "    </tr>\n",
       "    <tr>\n",
       "      <th>4830</th>\n",
       "      <td>art10994405</td>\n",
       "      <td>2133.0</td>\n",
       "      <td>367.0</td>\n",
       "      <td>NaN</td>\n",
       "      <td>NaN</td>\n",
       "      <td>Baden-Württemberg hat seine Quarantäne-Regeln ...</td>\n",
       "      <td>2022-05-05T07:52:00.000Z</td>\n",
       "      <td>Corona: Aktuelle Corona-Regeln: Was noch für I...</td>\n",
       "      <td>https://www.suedkurier.de/storage/image/3/7/3/...</td>\n",
       "      <td>162435.0</td>\n",
       "      <td>...</td>\n",
       "      <td>137468.0</td>\n",
       "      <td>8919.0</td>\n",
       "      <td>317.0</td>\n",
       "      <td>20579.0</td>\n",
       "      <td>624.0</td>\n",
       "      <td>60.60</td>\n",
       "      <td>6206.0</td>\n",
       "      <td>389</td>\n",
       "      <td>heimat</td>\n",
       "      <td>100.000000</td>\n",
       "    </tr>\n",
       "    <tr>\n",
       "      <th>9328</th>\n",
       "      <td>art10997220</td>\n",
       "      <td>5702.0</td>\n",
       "      <td>959.0</td>\n",
       "      <td>NaN</td>\n",
       "      <td>NaN</td>\n",
       "      <td>Die neue Corona-Verordnung im Südwesten ab 23....</td>\n",
       "      <td>2022-02-22T12:18:00.000Z</td>\n",
       "      <td>Corona: Neue Regeln in BW: Clubs öffnen, 3G st...</td>\n",
       "      <td>https://www.suedkurier.de/storage/image/9/6/6/...</td>\n",
       "      <td>211109.0</td>\n",
       "      <td>...</td>\n",
       "      <td>153921.0</td>\n",
       "      <td>15733.0</td>\n",
       "      <td>399.0</td>\n",
       "      <td>18197.0</td>\n",
       "      <td>499.0</td>\n",
       "      <td>68.40</td>\n",
       "      <td>11849.0</td>\n",
       "      <td>247</td>\n",
       "      <td>heimat</td>\n",
       "      <td>100.000000</td>\n",
       "    </tr>\n",
       "  </tbody>\n",
       "</table>\n",
       "<p>23151 rows × 23 columns</p>\n",
       "</div>"
      ],
      "text/plain": [
       "         articleid  charactercount  wordcount  skr-amountimages  \\\n",
       "11008  art11049899          1383.0      253.0               NaN   \n",
       "25296  art10500253          7508.0     1458.0               4.0   \n",
       "23368  art10581152          3576.0      694.0               NaN   \n",
       "25330  art10501137          5590.0      978.0               6.0   \n",
       "27036  art10397278          2360.0      398.0               1.0   \n",
       "...            ...             ...        ...               ...   \n",
       "12857  art11005171          3507.0      541.0               2.0   \n",
       "26164  art10455203          3055.0      484.0               2.0   \n",
       "14199  art10669477          1485.0      257.0               4.0   \n",
       "4830   art10994405          2133.0      367.0               NaN   \n",
       "9328   art10997220          5702.0      959.0               NaN   \n",
       "\n",
       "       skr-amounttext                                             teaser  \\\n",
       "11008             NaN  Er soll das Gefühl vermitteln zuhause zu sein,...   \n",
       "25296             1.0  Ab dem 28. April zeigt die ARD neue Folgen der...   \n",
       "23368             NaN  André Rieu gilt als Klassik-Künstler der Super...   \n",
       "25330             2.0  In den 1990er-Jahren häuften sich Berichte übe...   \n",
       "27036             5.0  Im vierten Teil unserer SÜDKURIER-Serie geht e...   \n",
       "...               ...                                                ...   \n",
       "12857             1.0  Die Landesregierung hat nach Weihnachten einma...   \n",
       "26164             3.0  In vielen Firmen ist die Nervosität aufgrund d...   \n",
       "14199             0.0  Wie viele Menschen in Konstanz sind mit dem Co...   \n",
       "4830              NaN  Baden-Württemberg hat seine Quarantäne-Regeln ...   \n",
       "9328              NaN  Die neue Corona-Verordnung im Südwesten ab 23....   \n",
       "\n",
       "                    publishtime  \\\n",
       "11008  2022-02-18T05:00:00.000Z   \n",
       "25296  2020-04-28T10:00:00.000Z   \n",
       "23368  2020-08-28T12:00:00.000Z   \n",
       "25330  2020-04-26T15:00:00.000Z   \n",
       "27036  2020-01-03T15:59:00.000Z   \n",
       "...                         ...   \n",
       "12857  2021-12-29T05:00:00.000Z   \n",
       "26164  2020-02-27T17:31:00.000Z   \n",
       "14199  2021-11-08T10:12:00.000Z   \n",
       "4830   2022-05-05T07:52:00.000Z   \n",
       "9328   2022-02-22T12:18:00.000Z   \n",
       "\n",
       "                                                og-title  \\\n",
       "11008  (Anzeige) Villingen-Schwenningen: Heimathafen ...   \n",
       "25296  Fernsehen: Warum „Die Heiland“ für Schauspiele...   \n",
       "23368  Musik: Warum Walzerkönig André Rieu jetzt im K...   \n",
       "25330  Außerirdisches Leben: Schon lange hat sich kei...   \n",
       "27036  Sport: Große Bilder der Sportgeschichte: Ringe...   \n",
       "...                                                  ...   \n",
       "12857                 Corona: FFP2-Masken in BW Pflicht?   \n",
       "26164  Arbeitsleben: Coronavirus: Wann darf ich als A...   \n",
       "14199  Region: So viele Corona-Fälle gibt es in Ihrem...   \n",
       "4830   Corona: Aktuelle Corona-Regeln: Was noch für I...   \n",
       "9328   Corona: Neue Regeln in BW: Clubs öffnen, 3G st...   \n",
       "\n",
       "                                                og-image  Visits Gesamt  ...  \\\n",
       "11008  https://www.suedkurier.de/storage/image/4/5/7/...          844.0  ...   \n",
       "25296  https://www.suedkurier.de/storage/image/7/2/4/...         3523.0  ...   \n",
       "23368  https://www.suedkurier.de/storage/image/5/6/6/...          913.0  ...   \n",
       "25330  https://www.suedkurier.de/storage/image/4/1/6/...         6110.0  ...   \n",
       "27036  https://www.suedkurier.de/storage/image/4/5/0/...         1222.0  ...   \n",
       "...                                                  ...            ...  ...   \n",
       "12857  https://www.suedkurier.de/storage/image/0/3/0/...        77424.0  ...   \n",
       "26164  https://www.suedkurier.de/storage/image/7/6/3/...        80630.0  ...   \n",
       "14199  https://www.suedkurier.de/storage/image/3/8/6/...       525817.0  ...   \n",
       "4830   https://www.suedkurier.de/storage/image/3/7/3/...       162435.0  ...   \n",
       "9328   https://www.suedkurier.de/storage/image/9/6/6/...       211109.0  ...   \n",
       "\n",
       "       Visitors  Visitor, Artikel zu 25% gelesen  \\\n",
       "11008     791.0                             28.0   \n",
       "25296    3451.0                              NaN   \n",
       "23368     893.0                              NaN   \n",
       "25330    5899.0                              NaN   \n",
       "27036    1182.0                              NaN   \n",
       "...         ...                              ...   \n",
       "12857   70383.0                          10507.0   \n",
       "26164   76743.0                           2960.0   \n",
       "14199   94385.0                           2492.0   \n",
       "4830   137468.0                           8919.0   \n",
       "9328   153921.0                          15733.0   \n",
       "\n",
       "       Visitor, Artikel zu 50% gelesen  Visitor, Artikel zu 75% gelesen  \\\n",
       "11008                              1.0                             18.0   \n",
       "25296                              NaN                              NaN   \n",
       "23368                              NaN                              NaN   \n",
       "25330                              NaN                              NaN   \n",
       "27036                              1.0                              NaN   \n",
       "...                                ...                              ...   \n",
       "12857                            205.0                          13709.0   \n",
       "26164                             39.0                           4109.0   \n",
       "14199                            224.0                           3417.0   \n",
       "4830                             317.0                          20579.0   \n",
       "9328                             399.0                          18197.0   \n",
       "\n",
       "       Visitor, Artikel zu 100% gelesen  Score_Summe_Gesamt  \\\n",
       "11008                               2.0               22.35   \n",
       "25296                               4.0               18.50   \n",
       "23368                               NaN               18.60   \n",
       "25330                               8.0               22.05   \n",
       "27036                               1.0                2.60   \n",
       "...                                 ...                 ...   \n",
       "12857                             225.0               70.00   \n",
       "26164                           16301.0               34.70   \n",
       "14199                           17917.0               54.05   \n",
       "4830                              624.0               60.60   \n",
       "9328                              499.0               68.40   \n",
       "\n",
       "       Abonnenten, SK Gesamt (Basis, Digital und Print)  Unnamed: 0  \\\n",
       "11008                                             136.0         263   \n",
       "25296                                               7.0         158   \n",
       "23368                                               3.0         132   \n",
       "25330                                              27.0          95   \n",
       "27036                                               4.0         139   \n",
       "...                                                 ...         ...   \n",
       "12857                                            3996.0         736   \n",
       "26164                                            1393.0         143   \n",
       "14199                                           21464.0         131   \n",
       "4830                                             6206.0         389   \n",
       "9328                                            11849.0         247   \n",
       "\n",
       "       kw-themencluster  anteil zuende  \n",
       "11008             leben       0.126422  \n",
       "25296      gesellschaft       0.130397  \n",
       "23368            kultur       0.167973  \n",
       "25330            wissen       0.169520  \n",
       "27036             sport       0.211506  \n",
       "...                 ...            ...  \n",
       "12857            heimat     100.000000  \n",
       "26164        wirtschaft     100.000000  \n",
       "14199           verkehr     100.000000  \n",
       "4830             heimat     100.000000  \n",
       "9328             heimat     100.000000  \n",
       "\n",
       "[23151 rows x 23 columns]"
      ]
     },
     "metadata": {},
     "execution_count": 64
    }
   ],
   "metadata": {}
  },
  {
   "cell_type": "code",
   "execution_count": 99,
   "source": [
    "alle_articles.nlargest(100, 'Onlinekäufe Abo (im Visit)')['kw-themencluster'].value_counts().to_frame().to_csv(\"../data/waffle_chart.csv\")"
   ],
   "outputs": [],
   "metadata": {}
  },
  {
   "cell_type": "code",
   "execution_count": 90,
   "source": [
    "alle_articles.nlargest(21, 'anteil zuende').iloc[1:]['wordcount'].mean()"
   ],
   "outputs": [
    {
     "output_type": "execute_result",
     "data": {
      "text/plain": [
       "404.35"
      ]
     },
     "metadata": {},
     "execution_count": 90
    }
   ],
   "metadata": {}
  },
  {
   "cell_type": "code",
   "execution_count": 67,
   "source": [
    "agg=alle_articles[['charactercount','skr-amountimages','wordcount', 'Visitors','Onlinekäufe Abo (im Visit)','anteil zuende', 'kw-themencluster']].groupby('kw-themencluster').mean().reset_index()"
   ],
   "outputs": [],
   "metadata": {}
  },
  {
   "cell_type": "code",
   "execution_count": 68,
   "source": [
    "agg"
   ],
   "outputs": [
    {
     "output_type": "execute_result",
     "data": {
      "text/html": [
       "<div>\n",
       "<style scoped>\n",
       "    .dataframe tbody tr th:only-of-type {\n",
       "        vertical-align: middle;\n",
       "    }\n",
       "\n",
       "    .dataframe tbody tr th {\n",
       "        vertical-align: top;\n",
       "    }\n",
       "\n",
       "    .dataframe thead th {\n",
       "        text-align: right;\n",
       "    }\n",
       "</style>\n",
       "<table border=\"1\" class=\"dataframe\">\n",
       "  <thead>\n",
       "    <tr style=\"text-align: right;\">\n",
       "      <th></th>\n",
       "      <th>kw-themencluster</th>\n",
       "      <th>charactercount</th>\n",
       "      <th>skr-amountimages</th>\n",
       "      <th>wordcount</th>\n",
       "      <th>Visitors</th>\n",
       "      <th>Onlinekäufe Abo (im Visit)</th>\n",
       "      <th>anteil zuende</th>\n",
       "    </tr>\n",
       "  </thead>\n",
       "  <tbody>\n",
       "    <tr>\n",
       "      <th>0</th>\n",
       "      <td>gesellschaft</td>\n",
       "      <td>3183.535956</td>\n",
       "      <td>2.886911</td>\n",
       "      <td>549.549861</td>\n",
       "      <td>904.232022</td>\n",
       "      <td>1.669421</td>\n",
       "      <td>61.740818</td>\n",
       "    </tr>\n",
       "    <tr>\n",
       "      <th>1</th>\n",
       "      <td>gesundheit</td>\n",
       "      <td>3555.868676</td>\n",
       "      <td>2.617994</td>\n",
       "      <td>601.314316</td>\n",
       "      <td>3090.791173</td>\n",
       "      <td>2.727273</td>\n",
       "      <td>54.490180</td>\n",
       "    </tr>\n",
       "    <tr>\n",
       "      <th>2</th>\n",
       "      <td>heimat</td>\n",
       "      <td>2946.260721</td>\n",
       "      <td>3.309432</td>\n",
       "      <td>506.890592</td>\n",
       "      <td>1490.616338</td>\n",
       "      <td>2.567544</td>\n",
       "      <td>63.578682</td>\n",
       "    </tr>\n",
       "    <tr>\n",
       "      <th>3</th>\n",
       "      <td>kultur</td>\n",
       "      <td>2887.520733</td>\n",
       "      <td>2.888750</td>\n",
       "      <td>510.466731</td>\n",
       "      <td>656.832208</td>\n",
       "      <td>1.431193</td>\n",
       "      <td>69.134487</td>\n",
       "    </tr>\n",
       "    <tr>\n",
       "      <th>4</th>\n",
       "      <td>leben</td>\n",
       "      <td>3199.151515</td>\n",
       "      <td>3.074681</td>\n",
       "      <td>545.300337</td>\n",
       "      <td>1665.106397</td>\n",
       "      <td>1.857143</td>\n",
       "      <td>58.692473</td>\n",
       "    </tr>\n",
       "    <tr>\n",
       "      <th>5</th>\n",
       "      <td>natur</td>\n",
       "      <td>2985.692857</td>\n",
       "      <td>3.684295</td>\n",
       "      <td>518.865476</td>\n",
       "      <td>1485.988095</td>\n",
       "      <td>1.496241</td>\n",
       "      <td>58.440410</td>\n",
       "    </tr>\n",
       "    <tr>\n",
       "      <th>6</th>\n",
       "      <td>politik</td>\n",
       "      <td>3206.025566</td>\n",
       "      <td>2.517045</td>\n",
       "      <td>542.056976</td>\n",
       "      <td>1467.027757</td>\n",
       "      <td>2.122137</td>\n",
       "      <td>63.454433</td>\n",
       "    </tr>\n",
       "    <tr>\n",
       "      <th>7</th>\n",
       "      <td>sicherheit</td>\n",
       "      <td>2337.723914</td>\n",
       "      <td>1.986129</td>\n",
       "      <td>396.889666</td>\n",
       "      <td>2722.942586</td>\n",
       "      <td>2.144838</td>\n",
       "      <td>67.589759</td>\n",
       "    </tr>\n",
       "    <tr>\n",
       "      <th>8</th>\n",
       "      <td>sport</td>\n",
       "      <td>2243.267995</td>\n",
       "      <td>1.815789</td>\n",
       "      <td>409.771842</td>\n",
       "      <td>430.136261</td>\n",
       "      <td>1.466281</td>\n",
       "      <td>71.815040</td>\n",
       "    </tr>\n",
       "    <tr>\n",
       "      <th>9</th>\n",
       "      <td>verkehr</td>\n",
       "      <td>2851.689312</td>\n",
       "      <td>2.621140</td>\n",
       "      <td>477.760870</td>\n",
       "      <td>1589.349638</td>\n",
       "      <td>2.067227</td>\n",
       "      <td>59.169917</td>\n",
       "    </tr>\n",
       "    <tr>\n",
       "      <th>10</th>\n",
       "      <td>wirtschaft</td>\n",
       "      <td>3265.873635</td>\n",
       "      <td>3.055187</td>\n",
       "      <td>553.539158</td>\n",
       "      <td>1795.465211</td>\n",
       "      <td>1.634538</td>\n",
       "      <td>56.159467</td>\n",
       "    </tr>\n",
       "    <tr>\n",
       "      <th>11</th>\n",
       "      <td>wissen</td>\n",
       "      <td>3859.190625</td>\n",
       "      <td>3.670732</td>\n",
       "      <td>660.534375</td>\n",
       "      <td>1497.690625</td>\n",
       "      <td>1.793651</td>\n",
       "      <td>56.140442</td>\n",
       "    </tr>\n",
       "  </tbody>\n",
       "</table>\n",
       "</div>"
      ],
      "text/plain": [
       "   kw-themencluster  charactercount  skr-amountimages   wordcount  \\\n",
       "0      gesellschaft     3183.535956          2.886911  549.549861   \n",
       "1        gesundheit     3555.868676          2.617994  601.314316   \n",
       "2            heimat     2946.260721          3.309432  506.890592   \n",
       "3            kultur     2887.520733          2.888750  510.466731   \n",
       "4             leben     3199.151515          3.074681  545.300337   \n",
       "5             natur     2985.692857          3.684295  518.865476   \n",
       "6           politik     3206.025566          2.517045  542.056976   \n",
       "7        sicherheit     2337.723914          1.986129  396.889666   \n",
       "8             sport     2243.267995          1.815789  409.771842   \n",
       "9           verkehr     2851.689312          2.621140  477.760870   \n",
       "10       wirtschaft     3265.873635          3.055187  553.539158   \n",
       "11           wissen     3859.190625          3.670732  660.534375   \n",
       "\n",
       "       Visitors  Onlinekäufe Abo (im Visit)  anteil zuende  \n",
       "0    904.232022                    1.669421      61.740818  \n",
       "1   3090.791173                    2.727273      54.490180  \n",
       "2   1490.616338                    2.567544      63.578682  \n",
       "3    656.832208                    1.431193      69.134487  \n",
       "4   1665.106397                    1.857143      58.692473  \n",
       "5   1485.988095                    1.496241      58.440410  \n",
       "6   1467.027757                    2.122137      63.454433  \n",
       "7   2722.942586                    2.144838      67.589759  \n",
       "8    430.136261                    1.466281      71.815040  \n",
       "9   1589.349638                    2.067227      59.169917  \n",
       "10  1795.465211                    1.634538      56.159467  \n",
       "11  1497.690625                    1.793651      56.140442  "
      ]
     },
     "metadata": {},
     "execution_count": 68
    }
   ],
   "metadata": {}
  },
  {
   "cell_type": "code",
   "execution_count": 102,
   "source": [
    "fig = px.scatter(agg, x=\"charactercount\", y=\"anteil zuende\",\n",
    "\t         size=\"Visitors\", color=\"kw-themencluster\",\n",
    "                 hover_name=\"kw-themencluster\", log_x=True, size_max=60)\n",
    "fig.show()"
   ],
   "outputs": [
    {
     "output_type": "display_data",
     "data": {
      "application/vnd.plotly.v1+json": {
       "data": [
        {
         "hovertemplate": "<b>%{hovertext}</b><br><br>kw-themencluster=gesellschaft<br>charactercount=%{x}<br>anteil zuende=%{y}<br>Visitors=%{marker.size}<extra></extra>",
         "hovertext": [
          "gesellschaft"
         ],
         "legendgroup": "gesellschaft",
         "marker": {
          "color": "#636efa",
          "size": [
           904.2320222487087
          ],
          "sizemode": "area",
          "sizeref": 0.8585531036957301,
          "symbol": "circle"
         },
         "mode": "markers",
         "name": "gesellschaft",
         "orientation": "v",
         "showlegend": true,
         "x": [
          3183.5359555025825
         ],
         "xaxis": "x",
         "y": [
          61.74081817671139
         ],
         "yaxis": "y",
         "type": "scatter"
        },
        {
         "hovertemplate": "<b>%{hovertext}</b><br><br>kw-themencluster=gesundheit<br>charactercount=%{x}<br>anteil zuende=%{y}<br>Visitors=%{marker.size}<extra></extra>",
         "hovertext": [
          "gesundheit"
         ],
         "legendgroup": "gesundheit",
         "marker": {
          "color": "#EF553B",
          "size": [
           3090.7911733046285
          ],
          "sizemode": "area",
          "sizeref": 0.8585531036957301,
          "symbol": "circle"
         },
         "mode": "markers",
         "name": "gesundheit",
         "orientation": "v",
         "showlegend": true,
         "x": [
          3555.8686759956945
         ],
         "xaxis": "x",
         "y": [
          54.49018017197131
         ],
         "yaxis": "y",
         "type": "scatter"
        },
        {
         "hovertemplate": "<b>%{hovertext}</b><br><br>kw-themencluster=heimat<br>charactercount=%{x}<br>anteil zuende=%{y}<br>Visitors=%{marker.size}<extra></extra>",
         "hovertext": [
          "heimat"
         ],
         "legendgroup": "heimat",
         "marker": {
          "color": "#00cc96",
          "size": [
           1490.616337844448
          ],
          "sizemode": "area",
          "sizeref": 0.8585531036957301,
          "symbol": "circle"
         },
         "mode": "markers",
         "name": "heimat",
         "orientation": "v",
         "showlegend": true,
         "x": [
          2946.2607206913417
         ],
         "xaxis": "x",
         "y": [
          63.57868238202669
         ],
         "yaxis": "y",
         "type": "scatter"
        },
        {
         "hovertemplate": "<b>%{hovertext}</b><br><br>kw-themencluster=kultur<br>charactercount=%{x}<br>anteil zuende=%{y}<br>Visitors=%{marker.size}<extra></extra>",
         "hovertext": [
          "kultur"
         ],
         "legendgroup": "kultur",
         "marker": {
          "color": "#ab63fa",
          "size": [
           656.8322082931534
          ],
          "sizemode": "area",
          "sizeref": 0.8585531036957301,
          "symbol": "circle"
         },
         "mode": "markers",
         "name": "kultur",
         "orientation": "v",
         "showlegend": true,
         "x": [
          2887.520732883317
         ],
         "xaxis": "x",
         "y": [
          69.13448702347137
         ],
         "yaxis": "y",
         "type": "scatter"
        },
        {
         "hovertemplate": "<b>%{hovertext}</b><br><br>kw-themencluster=leben<br>charactercount=%{x}<br>anteil zuende=%{y}<br>Visitors=%{marker.size}<extra></extra>",
         "hovertext": [
          "leben"
         ],
         "legendgroup": "leben",
         "marker": {
          "color": "#FFA15A",
          "size": [
           1665.1063973063974
          ],
          "sizemode": "area",
          "sizeref": 0.8585531036957301,
          "symbol": "circle"
         },
         "mode": "markers",
         "name": "leben",
         "orientation": "v",
         "showlegend": true,
         "x": [
          3199.151515151515
         ],
         "xaxis": "x",
         "y": [
          58.69247322009816
         ],
         "yaxis": "y",
         "type": "scatter"
        },
        {
         "hovertemplate": "<b>%{hovertext}</b><br><br>kw-themencluster=natur<br>charactercount=%{x}<br>anteil zuende=%{y}<br>Visitors=%{marker.size}<extra></extra>",
         "hovertext": [
          "natur"
         ],
         "legendgroup": "natur",
         "marker": {
          "color": "#19d3f3",
          "size": [
           1485.9880952380952
          ],
          "sizemode": "area",
          "sizeref": 0.8585531036957301,
          "symbol": "circle"
         },
         "mode": "markers",
         "name": "natur",
         "orientation": "v",
         "showlegend": true,
         "x": [
          2985.692857142857
         ],
         "xaxis": "x",
         "y": [
          58.4404102200898
         ],
         "yaxis": "y",
         "type": "scatter"
        },
        {
         "hovertemplate": "<b>%{hovertext}</b><br><br>kw-themencluster=politik<br>charactercount=%{x}<br>anteil zuende=%{y}<br>Visitors=%{marker.size}<extra></extra>",
         "hovertext": [
          "politik"
         ],
         "legendgroup": "politik",
         "marker": {
          "color": "#FF6692",
          "size": [
           1467.027757487217
          ],
          "sizemode": "area",
          "sizeref": 0.8585531036957301,
          "symbol": "circle"
         },
         "mode": "markers",
         "name": "politik",
         "orientation": "v",
         "showlegend": true,
         "x": [
          3206.025566106647
         ],
         "xaxis": "x",
         "y": [
          63.45443285405099
         ],
         "yaxis": "y",
         "type": "scatter"
        },
        {
         "hovertemplate": "<b>%{hovertext}</b><br><br>kw-themencluster=sicherheit<br>charactercount=%{x}<br>anteil zuende=%{y}<br>Visitors=%{marker.size}<extra></extra>",
         "hovertext": [
          "sicherheit"
         ],
         "legendgroup": "sicherheit",
         "marker": {
          "color": "#B6E880",
          "size": [
           2722.9425861208188
          ],
          "sizemode": "area",
          "sizeref": 0.8585531036957301,
          "symbol": "circle"
         },
         "mode": "markers",
         "name": "sicherheit",
         "orientation": "v",
         "showlegend": true,
         "x": [
          2337.723914128807
         ],
         "xaxis": "x",
         "y": [
          67.58975929766497
         ],
         "yaxis": "y",
         "type": "scatter"
        },
        {
         "hovertemplate": "<b>%{hovertext}</b><br><br>kw-themencluster=sport<br>charactercount=%{x}<br>anteil zuende=%{y}<br>Visitors=%{marker.size}<extra></extra>",
         "hovertext": [
          "sport"
         ],
         "legendgroup": "sport",
         "marker": {
          "color": "#FF97FF",
          "size": [
           430.13626075147124
          ],
          "sizemode": "area",
          "sizeref": 0.8585531036957301,
          "symbol": "circle"
         },
         "mode": "markers",
         "name": "sport",
         "orientation": "v",
         "showlegend": true,
         "x": [
          2243.2679945676778
         ],
         "xaxis": "x",
         "y": [
          71.81503988719635
         ],
         "yaxis": "y",
         "type": "scatter"
        },
        {
         "hovertemplate": "<b>%{hovertext}</b><br><br>kw-themencluster=verkehr<br>charactercount=%{x}<br>anteil zuende=%{y}<br>Visitors=%{marker.size}<extra></extra>",
         "hovertext": [
          "verkehr"
         ],
         "legendgroup": "verkehr",
         "marker": {
          "color": "#FECB52",
          "size": [
           1589.3496376811595
          ],
          "sizemode": "area",
          "sizeref": 0.8585531036957301,
          "symbol": "circle"
         },
         "mode": "markers",
         "name": "verkehr",
         "orientation": "v",
         "showlegend": true,
         "x": [
          2851.689311594203
         ],
         "xaxis": "x",
         "y": [
          59.16991651679754
         ],
         "yaxis": "y",
         "type": "scatter"
        },
        {
         "hovertemplate": "<b>%{hovertext}</b><br><br>kw-themencluster=wirtschaft<br>charactercount=%{x}<br>anteil zuende=%{y}<br>Visitors=%{marker.size}<extra></extra>",
         "hovertext": [
          "wirtschaft"
         ],
         "legendgroup": "wirtschaft",
         "marker": {
          "color": "#636efa",
          "size": [
           1795.4652106084243
          ],
          "sizemode": "area",
          "sizeref": 0.8585531036957301,
          "symbol": "circle"
         },
         "mode": "markers",
         "name": "wirtschaft",
         "orientation": "v",
         "showlegend": true,
         "x": [
          3265.873634945398
         ],
         "xaxis": "x",
         "y": [
          56.1594667636909
         ],
         "yaxis": "y",
         "type": "scatter"
        },
        {
         "hovertemplate": "<b>%{hovertext}</b><br><br>kw-themencluster=wissen<br>charactercount=%{x}<br>anteil zuende=%{y}<br>Visitors=%{marker.size}<extra></extra>",
         "hovertext": [
          "wissen"
         ],
         "legendgroup": "wissen",
         "marker": {
          "color": "#EF553B",
          "size": [
           1497.690625
          ],
          "sizemode": "area",
          "sizeref": 0.8585531036957301,
          "symbol": "circle"
         },
         "mode": "markers",
         "name": "wissen",
         "orientation": "v",
         "showlegend": true,
         "x": [
          3859.190625
         ],
         "xaxis": "x",
         "y": [
          56.14044196728126
         ],
         "yaxis": "y",
         "type": "scatter"
        }
       ],
       "layout": {
        "template": {
         "data": {
          "histogram2dcontour": [
           {
            "type": "histogram2dcontour",
            "colorbar": {
             "outlinewidth": 0,
             "ticks": ""
            },
            "colorscale": [
             [
              0,
              "#0d0887"
             ],
             [
              0.1111111111111111,
              "#46039f"
             ],
             [
              0.2222222222222222,
              "#7201a8"
             ],
             [
              0.3333333333333333,
              "#9c179e"
             ],
             [
              0.4444444444444444,
              "#bd3786"
             ],
             [
              0.5555555555555556,
              "#d8576b"
             ],
             [
              0.6666666666666666,
              "#ed7953"
             ],
             [
              0.7777777777777778,
              "#fb9f3a"
             ],
             [
              0.8888888888888888,
              "#fdca26"
             ],
             [
              1,
              "#f0f921"
             ]
            ]
           }
          ],
          "choropleth": [
           {
            "type": "choropleth",
            "colorbar": {
             "outlinewidth": 0,
             "ticks": ""
            }
           }
          ],
          "histogram2d": [
           {
            "type": "histogram2d",
            "colorbar": {
             "outlinewidth": 0,
             "ticks": ""
            },
            "colorscale": [
             [
              0,
              "#0d0887"
             ],
             [
              0.1111111111111111,
              "#46039f"
             ],
             [
              0.2222222222222222,
              "#7201a8"
             ],
             [
              0.3333333333333333,
              "#9c179e"
             ],
             [
              0.4444444444444444,
              "#bd3786"
             ],
             [
              0.5555555555555556,
              "#d8576b"
             ],
             [
              0.6666666666666666,
              "#ed7953"
             ],
             [
              0.7777777777777778,
              "#fb9f3a"
             ],
             [
              0.8888888888888888,
              "#fdca26"
             ],
             [
              1,
              "#f0f921"
             ]
            ]
           }
          ],
          "heatmap": [
           {
            "type": "heatmap",
            "colorbar": {
             "outlinewidth": 0,
             "ticks": ""
            },
            "colorscale": [
             [
              0,
              "#0d0887"
             ],
             [
              0.1111111111111111,
              "#46039f"
             ],
             [
              0.2222222222222222,
              "#7201a8"
             ],
             [
              0.3333333333333333,
              "#9c179e"
             ],
             [
              0.4444444444444444,
              "#bd3786"
             ],
             [
              0.5555555555555556,
              "#d8576b"
             ],
             [
              0.6666666666666666,
              "#ed7953"
             ],
             [
              0.7777777777777778,
              "#fb9f3a"
             ],
             [
              0.8888888888888888,
              "#fdca26"
             ],
             [
              1,
              "#f0f921"
             ]
            ]
           }
          ],
          "heatmapgl": [
           {
            "type": "heatmapgl",
            "colorbar": {
             "outlinewidth": 0,
             "ticks": ""
            },
            "colorscale": [
             [
              0,
              "#0d0887"
             ],
             [
              0.1111111111111111,
              "#46039f"
             ],
             [
              0.2222222222222222,
              "#7201a8"
             ],
             [
              0.3333333333333333,
              "#9c179e"
             ],
             [
              0.4444444444444444,
              "#bd3786"
             ],
             [
              0.5555555555555556,
              "#d8576b"
             ],
             [
              0.6666666666666666,
              "#ed7953"
             ],
             [
              0.7777777777777778,
              "#fb9f3a"
             ],
             [
              0.8888888888888888,
              "#fdca26"
             ],
             [
              1,
              "#f0f921"
             ]
            ]
           }
          ],
          "contourcarpet": [
           {
            "type": "contourcarpet",
            "colorbar": {
             "outlinewidth": 0,
             "ticks": ""
            }
           }
          ],
          "contour": [
           {
            "type": "contour",
            "colorbar": {
             "outlinewidth": 0,
             "ticks": ""
            },
            "colorscale": [
             [
              0,
              "#0d0887"
             ],
             [
              0.1111111111111111,
              "#46039f"
             ],
             [
              0.2222222222222222,
              "#7201a8"
             ],
             [
              0.3333333333333333,
              "#9c179e"
             ],
             [
              0.4444444444444444,
              "#bd3786"
             ],
             [
              0.5555555555555556,
              "#d8576b"
             ],
             [
              0.6666666666666666,
              "#ed7953"
             ],
             [
              0.7777777777777778,
              "#fb9f3a"
             ],
             [
              0.8888888888888888,
              "#fdca26"
             ],
             [
              1,
              "#f0f921"
             ]
            ]
           }
          ],
          "surface": [
           {
            "type": "surface",
            "colorbar": {
             "outlinewidth": 0,
             "ticks": ""
            },
            "colorscale": [
             [
              0,
              "#0d0887"
             ],
             [
              0.1111111111111111,
              "#46039f"
             ],
             [
              0.2222222222222222,
              "#7201a8"
             ],
             [
              0.3333333333333333,
              "#9c179e"
             ],
             [
              0.4444444444444444,
              "#bd3786"
             ],
             [
              0.5555555555555556,
              "#d8576b"
             ],
             [
              0.6666666666666666,
              "#ed7953"
             ],
             [
              0.7777777777777778,
              "#fb9f3a"
             ],
             [
              0.8888888888888888,
              "#fdca26"
             ],
             [
              1,
              "#f0f921"
             ]
            ]
           }
          ],
          "mesh3d": [
           {
            "type": "mesh3d",
            "colorbar": {
             "outlinewidth": 0,
             "ticks": ""
            }
           }
          ],
          "scatter": [
           {
            "fillpattern": {
             "fillmode": "overlay",
             "size": 10,
             "solidity": 0.2
            },
            "type": "scatter"
           }
          ],
          "parcoords": [
           {
            "type": "parcoords",
            "line": {
             "colorbar": {
              "outlinewidth": 0,
              "ticks": ""
             }
            }
           }
          ],
          "scatterpolargl": [
           {
            "type": "scatterpolargl",
            "marker": {
             "colorbar": {
              "outlinewidth": 0,
              "ticks": ""
             }
            }
           }
          ],
          "bar": [
           {
            "error_x": {
             "color": "#2a3f5f"
            },
            "error_y": {
             "color": "#2a3f5f"
            },
            "marker": {
             "line": {
              "color": "#E5ECF6",
              "width": 0.5
             },
             "pattern": {
              "fillmode": "overlay",
              "size": 10,
              "solidity": 0.2
             }
            },
            "type": "bar"
           }
          ],
          "scattergeo": [
           {
            "type": "scattergeo",
            "marker": {
             "colorbar": {
              "outlinewidth": 0,
              "ticks": ""
             }
            }
           }
          ],
          "scatterpolar": [
           {
            "type": "scatterpolar",
            "marker": {
             "colorbar": {
              "outlinewidth": 0,
              "ticks": ""
             }
            }
           }
          ],
          "histogram": [
           {
            "marker": {
             "pattern": {
              "fillmode": "overlay",
              "size": 10,
              "solidity": 0.2
             }
            },
            "type": "histogram"
           }
          ],
          "scattergl": [
           {
            "type": "scattergl",
            "marker": {
             "colorbar": {
              "outlinewidth": 0,
              "ticks": ""
             }
            }
           }
          ],
          "scatter3d": [
           {
            "type": "scatter3d",
            "line": {
             "colorbar": {
              "outlinewidth": 0,
              "ticks": ""
             }
            },
            "marker": {
             "colorbar": {
              "outlinewidth": 0,
              "ticks": ""
             }
            }
           }
          ],
          "scattermapbox": [
           {
            "type": "scattermapbox",
            "marker": {
             "colorbar": {
              "outlinewidth": 0,
              "ticks": ""
             }
            }
           }
          ],
          "scatterternary": [
           {
            "type": "scatterternary",
            "marker": {
             "colorbar": {
              "outlinewidth": 0,
              "ticks": ""
             }
            }
           }
          ],
          "scattercarpet": [
           {
            "type": "scattercarpet",
            "marker": {
             "colorbar": {
              "outlinewidth": 0,
              "ticks": ""
             }
            }
           }
          ],
          "carpet": [
           {
            "aaxis": {
             "endlinecolor": "#2a3f5f",
             "gridcolor": "white",
             "linecolor": "white",
             "minorgridcolor": "white",
             "startlinecolor": "#2a3f5f"
            },
            "baxis": {
             "endlinecolor": "#2a3f5f",
             "gridcolor": "white",
             "linecolor": "white",
             "minorgridcolor": "white",
             "startlinecolor": "#2a3f5f"
            },
            "type": "carpet"
           }
          ],
          "table": [
           {
            "cells": {
             "fill": {
              "color": "#EBF0F8"
             },
             "line": {
              "color": "white"
             }
            },
            "header": {
             "fill": {
              "color": "#C8D4E3"
             },
             "line": {
              "color": "white"
             }
            },
            "type": "table"
           }
          ],
          "barpolar": [
           {
            "marker": {
             "line": {
              "color": "#E5ECF6",
              "width": 0.5
             },
             "pattern": {
              "fillmode": "overlay",
              "size": 10,
              "solidity": 0.2
             }
            },
            "type": "barpolar"
           }
          ],
          "pie": [
           {
            "automargin": true,
            "type": "pie"
           }
          ]
         },
         "layout": {
          "autotypenumbers": "strict",
          "colorway": [
           "#636efa",
           "#EF553B",
           "#00cc96",
           "#ab63fa",
           "#FFA15A",
           "#19d3f3",
           "#FF6692",
           "#B6E880",
           "#FF97FF",
           "#FECB52"
          ],
          "font": {
           "color": "#2a3f5f"
          },
          "hovermode": "closest",
          "hoverlabel": {
           "align": "left"
          },
          "paper_bgcolor": "white",
          "plot_bgcolor": "#E5ECF6",
          "polar": {
           "bgcolor": "#E5ECF6",
           "angularaxis": {
            "gridcolor": "white",
            "linecolor": "white",
            "ticks": ""
           },
           "radialaxis": {
            "gridcolor": "white",
            "linecolor": "white",
            "ticks": ""
           }
          },
          "ternary": {
           "bgcolor": "#E5ECF6",
           "aaxis": {
            "gridcolor": "white",
            "linecolor": "white",
            "ticks": ""
           },
           "baxis": {
            "gridcolor": "white",
            "linecolor": "white",
            "ticks": ""
           },
           "caxis": {
            "gridcolor": "white",
            "linecolor": "white",
            "ticks": ""
           }
          },
          "coloraxis": {
           "colorbar": {
            "outlinewidth": 0,
            "ticks": ""
           }
          },
          "colorscale": {
           "sequential": [
            [
             0,
             "#0d0887"
            ],
            [
             0.1111111111111111,
             "#46039f"
            ],
            [
             0.2222222222222222,
             "#7201a8"
            ],
            [
             0.3333333333333333,
             "#9c179e"
            ],
            [
             0.4444444444444444,
             "#bd3786"
            ],
            [
             0.5555555555555556,
             "#d8576b"
            ],
            [
             0.6666666666666666,
             "#ed7953"
            ],
            [
             0.7777777777777778,
             "#fb9f3a"
            ],
            [
             0.8888888888888888,
             "#fdca26"
            ],
            [
             1,
             "#f0f921"
            ]
           ],
           "sequentialminus": [
            [
             0,
             "#0d0887"
            ],
            [
             0.1111111111111111,
             "#46039f"
            ],
            [
             0.2222222222222222,
             "#7201a8"
            ],
            [
             0.3333333333333333,
             "#9c179e"
            ],
            [
             0.4444444444444444,
             "#bd3786"
            ],
            [
             0.5555555555555556,
             "#d8576b"
            ],
            [
             0.6666666666666666,
             "#ed7953"
            ],
            [
             0.7777777777777778,
             "#fb9f3a"
            ],
            [
             0.8888888888888888,
             "#fdca26"
            ],
            [
             1,
             "#f0f921"
            ]
           ],
           "diverging": [
            [
             0,
             "#8e0152"
            ],
            [
             0.1,
             "#c51b7d"
            ],
            [
             0.2,
             "#de77ae"
            ],
            [
             0.3,
             "#f1b6da"
            ],
            [
             0.4,
             "#fde0ef"
            ],
            [
             0.5,
             "#f7f7f7"
            ],
            [
             0.6,
             "#e6f5d0"
            ],
            [
             0.7,
             "#b8e186"
            ],
            [
             0.8,
             "#7fbc41"
            ],
            [
             0.9,
             "#4d9221"
            ],
            [
             1,
             "#276419"
            ]
           ]
          },
          "xaxis": {
           "gridcolor": "white",
           "linecolor": "white",
           "ticks": "",
           "title": {
            "standoff": 15
           },
           "zerolinecolor": "white",
           "automargin": true,
           "zerolinewidth": 2
          },
          "yaxis": {
           "gridcolor": "white",
           "linecolor": "white",
           "ticks": "",
           "title": {
            "standoff": 15
           },
           "zerolinecolor": "white",
           "automargin": true,
           "zerolinewidth": 2
          },
          "scene": {
           "xaxis": {
            "backgroundcolor": "#E5ECF6",
            "gridcolor": "white",
            "linecolor": "white",
            "showbackground": true,
            "ticks": "",
            "zerolinecolor": "white",
            "gridwidth": 2
           },
           "yaxis": {
            "backgroundcolor": "#E5ECF6",
            "gridcolor": "white",
            "linecolor": "white",
            "showbackground": true,
            "ticks": "",
            "zerolinecolor": "white",
            "gridwidth": 2
           },
           "zaxis": {
            "backgroundcolor": "#E5ECF6",
            "gridcolor": "white",
            "linecolor": "white",
            "showbackground": true,
            "ticks": "",
            "zerolinecolor": "white",
            "gridwidth": 2
           }
          },
          "shapedefaults": {
           "line": {
            "color": "#2a3f5f"
           }
          },
          "annotationdefaults": {
           "arrowcolor": "#2a3f5f",
           "arrowhead": 0,
           "arrowwidth": 1
          },
          "geo": {
           "bgcolor": "white",
           "landcolor": "#E5ECF6",
           "subunitcolor": "white",
           "showland": true,
           "showlakes": true,
           "lakecolor": "white"
          },
          "title": {
           "x": 0.05
          },
          "mapbox": {
           "style": "light"
          }
         }
        },
        "xaxis": {
         "anchor": "y",
         "domain": [
          0,
          1
         ],
         "title": {
          "text": "charactercount"
         },
         "type": "log"
        },
        "yaxis": {
         "anchor": "x",
         "domain": [
          0,
          1
         ],
         "title": {
          "text": "anteil zuende"
         }
        },
        "legend": {
         "title": {
          "text": "kw-themencluster"
         },
         "tracegroupgap": 0,
         "itemsizing": "constant"
        },
        "margin": {
         "t": 60
        }
       },
       "config": {
        "plotlyServerURL": "https://plot.ly"
       }
      }
     },
     "metadata": {}
    }
   ],
   "metadata": {}
  },
  {
   "cell_type": "code",
   "execution_count": 81,
   "source": [
    "from collections import Counter\n",
    "\n",
    "#ohne_corona=alle_articles[alle_articles['kw-themencluster']!='gesundheit']\n",
    "ohne_corona=alle_articles[~alle_articles['og-title'].str.contains('Corona')]\n",
    "\n",
    "results = Counter()\n",
    "ohne_corona.nlargest(40, 'Onlinekäufe Abo (im Visit)')['teaser'].str.lower().str.split().apply(results.update)\n",
    "print(results)\n",
    "\n"
   ],
   "outputs": [
    {
     "output_type": "stream",
     "name": "stdout",
     "text": [
      "Counter({'der': 64, 'die': 56, 'und': 41, 'in': 35, 'den': 20, 'dem': 17, 'das': 16, 'mit': 16, 'ein': 16, 'ist': 15, 'des': 13, 'wie': 13, 'im': 13, 'auch': 12, 'sie': 12, 'es': 10, 'einen': 10, 'sich': 9, 'an': 9, 'nach': 9, 'auf': 9, 'konstanz': 8, 'noch': 8, 'was': 8, 'zu': 8, 'sind': 8, 'hat': 8, 'einer': 7, 'tod': 7, 'für': 7, 'wir': 6, 'bis': 6, 'eine': 6, 'vor': 6, 'von': 6, 'am': 6, 'schweizer': 5, 'seit': 5, 'war': 5, 'wird': 5, '–': 5, 'über': 5, 'jahren': 5, 'nur': 4, 'um': 4, 'werden': 4, 'zwischen': 4, 'fragen': 4, 'jetzt': 4, 'doch': 4, 'bei': 4, 'alle': 4, 'sein': 4, 'wurde': 4, 'seinen': 4, 'er': 4, 'zwei': 4, 'hier': 4, 'südkurier': 4, 'haben': 4, 'zur': 4, 'oder': 4, 'wurden': 4, 'nicht': 4, 'ihr': 3, 'region': 3, 'deutschland': 3, 'schweiz': 3, 'drei': 3, 'dass': 3, 'zum': 3, 'viele': 3, 'jahre': 3, 'sagt': 3, 'fall': 3, 'sehr': 3, 'aus': 3, 'will': 3, 'dabei': 3, 'antworten': 3, 'wieder': 3, 'konstanzer': 3, 'andreas': 3, 'gab': 3, 'stadt': 3, 'radolfzell': 3, 'martin': 3, 'vergangenen': 3, 'seiner': 3, 'neuen': 3, 'einem': 3, 'macht': 2, 'große': 2, 'zeigen,': 2, 'rund': 2, 'montagmorgen': 2, 'grenzübergänge': 2, 'klein': 2, 'ganz': 2, 'tag': 2, 'letzten': 2, 'aber': 2, 'großem': 2, 'tätig': 2, 'gegen': 2, 'coronavirus': 2, 'dennoch': 2, 'so': 2, 'passiert': 2, 'ist,': 2, 'familie': 2, 'weiter': 2, 'illmensee': 2, 'tot.': 2, 'leichnam': 2, 'kindern': 2, 'polizei': 2, 'eines': 2, 'diesem': 2, 'weg': 2, 'großen': 2, 'restaurants': 2, 'spuren': 2, 'unter': 2, 'ortsteil': 2, 'gemeinderates': 2, 'silvester': 2, 'anderen': 2, 'ihnen': 2, 'durch': 2, 'finden': 2, 'ihre': 2, 'jeden': 2, 'oberbürgermeister-kandidaten': 2, 'gebeten,': 2, 'steckbrief': 2, 'auszufüllen.': 2, 'persönlichen': 2, 'privaten': 2, 'freizeitgestaltung': 2, 'lieblingsplatz': 2, 'hin': 2, 'politischen': 2, 'zielen.': 2, 'hennemann,': 2, 'als': 2, 'wahl': 2, 'oberbürgermeister': 2, 'konnte': 2, 'acht': 2, 'woche': 2, 'er,': 2, 'ihm': 2, 'diesen': 2, 'uli': 2, 'burchardt,': 2, 'jahr': 2, 'erlebt': 2, 'zeit': 2, 'bewohner': 2, 'genau': 2, 'viel': 2, 'mundschutz': 2, 'menschen': 2, 'stunden': 2, '31': 2, 'hatte': 2, 'gruppe': 2, 'wo': 2, 'banknotenserie': 2, 'scheine': 2, 'abo': 1, 'service:': 1, 'telefon:': 1, '07531/999-4444,': 1, 'mail:': 1, 'abo-service@suedkurier.de,': 1, 'trauer:': 1, 'traueranzeigen.suedkurier.de,': 1, 'redaktion:': 1, 'redaktion@suedkurier.de': 1, 'allensbacherin': 1, 'tanja': 1, 'groß': 1, 'freund': 1, 'sehen': 1, 'bislang': 1, 'schweiz.': 1, 'auslandsbehörde': 1, 'möglich': 1, 'mithilfe': 1, 'sondergenehmigung.': 1, 'straßenbauprojekt': 1, 'b33': 1, 'entscheidenden': 1, 'phase.': 1, 'grafiken': 1, 'erklären': 1, 'etappen': 1, 'bauprojekts': 1, 'verändert.': 1, 'grenzen': 1, 'streng': 1, 'kontrolliert.': 1, 'zollstellen': 1, 'bundespolizisten': 1, 'pendler': 1, 'triftigen': 1, 'grund': 1, 'einreise.': 1, 'dicht': 1, 'gemacht,': 1, 'personal': 1, 'verbleibenden': 1, 'gezielt': 1, 'einzusetzen.': 1, 'kunstgrenze': 1, 'venedig': 1, 'steht': 1, 'trennender': 1, 'grenzzaun.': 1, 'führt': 1, 'scharfe': 1, 'kontrollen': 1, 'ein.': 1, 'normaler': 1, 'sonntagsspaziergang': 1, 'deutsch-schweizer': 1, 'grenzgebiet.': 1, 'plötzlich': 1, 'bekommt': 1, 'andere': 1, 'brisanz.': 1, 'konstanzern': 1, 'kreuzlingern': 1, 'bewusst,': 1, 'vorerst': 1, 'mal': 1, 'nachbarland': 1, 'aufhalten.': 1, 'reagieren': 1, 'verständnis,': 1, 'allem': 1, 'bedauern.': 1, 'völlig': 1, 'überraschend': 1, 'dr.': 1, 'winfried': 1, 'potrzeba': 1, 'verstorben.': 1, 'beliebte': 1, 'zahnarzt': 1, 'kommunalpolitik': 1, 'förderte': 1, 'vereinswesen.': 1, 'unklar,': 1, 'konkret': 1, 'verursacht': 1, 'hat,': 1, 'spekuliert': 1, 'fleißig.': 1, 'denn': 1, 'impfung': 1, 'lagen': 1, '44-jährigen': 1, 'wenige': 1, 'wochen.': 1, 'familie:': 1, 'einfach': 1, 'nicht.': 1, 'kliniken': 1, 'einordnen': 1, 'geht.': 1, 'spektakulären': 1, 'polizeieinsatz': 1, 'neue': 1, 'details': 1, 'bekannt.': 1, 'festgenommenen': 1, 'opfer': 1, 'waren': 1, 'jung.': 1, '23.': 1, 'oktober': 1, '2019': 1, 'verschwundene': 1, 'campingplatzbetreiber': 1, 'johann': 1, 'heigle': 1, 'entdeckt,': 1, 'bestätigt': 1, 'polizei.': 1, 'hans': 1, 'pannwitz': 1, 'gang': 1, 'öffentlichkeit': 1, 'neues': 1, 'bewusstsein': 1, 'thema': 1, 'depressionen': 1, 'anregen.': 1, 'zusammen': 1, 'vier': 1, 'pflegt': 1, 'offene': 1, 'kommunikationskultur:': 1, '„es': 1, 'bringt': 1, 'ja': 1, 'nichts,': 1, 'irgendetwas': 1, 'verschweigen.“': 1, 'teilt': 1, 'keine': 1, 'erkenntnisse': 1, '46-jährigen': 1, 'verletzungen': 1, 'mit,': 1, 'opferschutz': 1, 'genießt': 1, 'hohe': 1, 'priorität.': 1, 'motiv': 1, 'mutmaßlichen': 1, 'täters': 1, 'unklar.': 1, 'mafia': 1, 'scheint': 1, 'weit': 1, 'investigative': 1, 'journalisten': 1, 'konnten': 1, 'umfangreiche': 1, 'dokumente': 1, 'einsehen,': 1, 'gegenteil': 1, 'nahe': 1, 'legen.': 1, 'unterlagen': 1, 'bodensee': 1, 'beheimateter': 1, \"'ndrangheta-clan\": 1, 'kokain': 1, 'stil': 1, 'gehandelt': 1, 'erlös': 1, 'lebensmittel': 1, '„reingewaschen“': 1, 'hat.': 1, 'lassen': 1, 'anderem': 1, 'kleinen': 1, 'stockacher': 1, 'nachverfolgen.': 1, 'bürgermeister': 1, 'sitzung': 1, 'pfullendorf': 1, 'mutmaßliche': 1, 'todesursache': 1, 'verstorbenen': 1, 'zahnarztes': 1, 'offiziell': 1, 'sendet': 1, 'eindringlichen': 1, 'impfappell.': 1, 'lauten': 1, 'kracher': 1, 'muss,': 1, 'ärgernis.': 1, 'gilt': 1, 'landesbeschluss:': 1, '2021/22': 1, 'weitgehend': 1, 'raketen-': 1, 'böllerfrei.': 1, 'dazu,': 1, 'erlaubt': 1, 'wird,': 1, 'sinnvoll': 1, 'regionale': 1, 'klinken': 1, 'verbot': 1, 'bewerten': 1, 'ob': 1, 'raketen': 1, 'eingeführt': 1, 'dürfen.': 1, 'sammeln': 1, 'bilder': 1, 'erstklässler': 1, 'umgebung.': 1, 'wünscht': 1, 'allen': 1, 'schülerinnen': 1, 'schülern': 1, 'guten': 1, 'start!': 1, 'wochenende': 1, 'nichts': 1, 'möchten': 1, 'natur': 1, 'genießen?': 1, 'stellen': 1, 'spannende': 1, 'wandertouren': 1, 'ganze': 1, 'vor.': 1, 'routen': 1, 'blick.': 1, 'luzia': 1, 'krug': 1, 'notaufnahme': 1, 'schwarzwald-baar-klinikums': 1, 'villingen-schwenningen': 1, 'nie': 1, 'erleben.': 1, 'geschichte': 1, 'erzählt.': 1, 'klinikum?': 1, 'studiert': 1, 'rechtsanwalt': 1, 'ist.': 1, 'spanische': 1, 'grippe': 1, 'forderte': 1, '1918': 1, '1919': 1, 'unzählige': 1, 'todesopfer.': 1, 'kam': 1, 'virus': 1, 'kriegsheimkehrer': 1, 'heimat.': 1, 'folge': 1, 'schulen': 1, 'geschlossen,': 1, 'hamsterkäufe': 1, 'behörden': 1, 'riefen': 1, 'dazu': 1, 'auf,': 1, 'zugfahrten': 1, 'versammlungen': 1, 'meiden.': 1, 'amtsgericht': 1, 'musste': 1, 'kellner': 1, 'verantworten,': 1, 'bar': 1, '23-jährige': 1, 'vergewaltigt': 1, 'hatte.': 1, 'gericht': 1, 'deutlich,': 1, 'schwer': 1, 'vergewaltigten': 1, 'frauen': 1, 'fallen': 1, 'kann,': 1, 'peiniger': 1, 'anzuzeigen.': 1, 'frage,': 1, 'schwirrt': 1, 'ist:': 1, 'passieren,': 1, 'amtsinhaber': 1, 'staab': 1, '13,9': 1, 'prozent': 1, 'amt': 1, 'katapultiert': 1, 'wird?': 1, 'antwort': 1, 'liegt': 1, 'aktuellen': 1, 'wahlkampf,': 1, 'sondern': 1, 'amtszeit.': 1, 'versuch': 1, 'analyse': 1, 'staab.': 1, 'fridolin': 1, 'zugmantel': 1, 'metzgermeister': 1, 'mitbegründer': 1, 'schlachthofinitiative,': 1, 'chef': 1, 'schwerttanzkompanie': 1, 'förderer': 1, 'vieler': 1, 'vereine': 1, 'alter': 1, '56': 1, 'gestorben.': 1, 'familienvaters': 1, 'löst': 1, 'trauer': 1, 'aus.': 1, 'schwieg': 1, 'gesprochen:': 1, 'wut-baggerfahrer': 1, 'matija': 1, 'p.,': 1, 'blumberg': 1, 'errichteten': 1, 'neubau': 1, 'demolierte.': 1, '47-jährige': 1, 'zeichnet': 1, 'bild': 1, 'firmennetzwerks,': 1, 'erpressung': 1, 'betrug': 1, 'tagesordnung': 1, 'gewesen': 1, 'sollen.': 1, 'staatsanwaltschaft': 1, 'ermittelt': 1, 'mühe,': 1, 'gegenseitigen': 1, 'strafanzeigen': 1, 'nachzuvollziehen.': 1, 'wirtschaftskrimi': 1, 'kommen': 1, 'sagen': 1, 'beteiligten?': 1, 'wählt': 1, 'oberbürgermeister.': 1, 'verbringen': 1, 'fünf': 1, 'männer,': 1, 'gestellt': 1, 'haben,': 1, 'besonderen': 1, 'sonntag?': 1, 'matt,': 1, 'jury': 1, 'luigi': 1, 'pantisano': 1, 'begleitet.': 1, 'fast': 1, 'halbes': 1, 'seinem': 1, 'verschwinden': 1, 'vermissten': 1, 'campingplatzbesitzers': 1, 'gelände': 1, 'gefunden.': 1, 'lag': 1, 'boot,': 1, 'anhänger': 1, 'stand,': 1, 'grundstücksparzelle': 1, 'abgestellt': 1, 'war.': 1, 'sinne': 1, 'bemühungen': 1, 'eindämmung': 1, 'coronavirus‘': 1, 'intensive': 1, 'grenzkontrollen': 1, 'übergängen': 1, 'tagesordnung.': 1, 'einige': 1, 'kleinere': 1, 'inzwischen': 1, 'komplett': 1, 'gesperrt.': 1, 'überblick:': 1, 'sonntag': 1, 'künftigen': 1, 'gewählt.': 1, 'vorläufige': 1, 'amtliche': 1, 'ergebnis': 1, 'deutlich:': 1, 'herausforderer': 1, 'simon': 1, 'gröger': 1, 'vorsprung': 1, 'gewonnen.': 1, 'kommenden': 1, 'mann': 1, 'radolfzeller': 1, 'rathaus.': 1, 'analysen': 1, 'reaktionen': 1, 'ob-wahl': 1, 'lesen': 1, 'newsticker.': 1, 'bezirksliga-interview': 1, 'woche:': 1, 'spielführer': 1, 'tagen,': 1, 'seine': 1, 'mitspieler': 1, 'privat': 1, 'schwierigen': 1, 'stehen': 1, 'freitag': 1, 'bekannt': 1, 'geworden,': 1, 'wochen': 1, 'elf': 1, 'seniorenwohnparks': 1, 'uhldingen-mühlhofen': 1, 'covid-19': 1, 'verstorben': 1, 'sind.': 1, 'montag': 1, 'kamen': 1, 'weitere': 1, 'todesfälle': 1, 'dazu.': 1, '15': 1, 'mitarbeiter': 1, 'infiziert.': 1, 'münchner': 1, 'ärztin': 1, 'claudia': 1, 'bausewein': 1, 'gehört': 1, 'führenden': 1, 'palliativmedizinerinnen': 1, 'deutschland.': 1, 'sterbende,': 1, 'wissen,': 1, 'bleibt,': 1, 'andere,': 1, 'verdrängen.': 1, 'immer': 1, 'tabuthema.': 1, 'ändern,': 1, 'indem': 1, 'beantwortet.': 1, 'oberbürgermeisters': 1, 'bürgern': 1, 'zweite': 1, 'amtszeit': 1, 'bewirbt.': 1, 'serviette,': 1, 'baumwollfaden': 1, 'wenig': 1, 'geduld:': 1, 'paar': 1, 'minuten': 1, 'fertig.': 1, '„jeder': 1, 'wirksamer': 1, 'gar': 1, 'kein': 1, 'mundschutz“,': 1, 'veterinär.': 1, 'außerdem': 1, 'erklärt': 1, 'warum': 1, 'katzen': 1, 'zwar': 1, 'corona-virus': 1, 'tragen,': 1, 'dieser': 1, 'überträgt.': 1, 'kunden': 1, 'fitness': 1, 'forums': 1, 'einkaufszentrum': 1, 'lago': 1, 'vom': 1, 'geschäftsführer': 1, 'tür': 1, 'gesetzt': 1, 'mitsamt': 1, 'gerichtsvollzieher.': 1, 'passiert?': 1, 'geht': 1, 'nun': 1, 'weiter?': 1, '24': 1, 'größten': 1, 'anti-mafia-razzia': 1, 'bodenseeregion': 1, 'zahlreichen': 1, 'augenzeugen': 1, 'polizeieinsatzes': 1, 'überlingen': 1, 'gesprochen.': 1, 'ort': 1, 'einsätze': 1, 'teilweise': 1, 'erkennbar.': 1, 'auto': 1, 'lastwagen': 1, 'freitagmorgen': 1, 'bundesstraße': 1, 'schweren': 1, 'unfall': 1, 'verwickelt.': 1, 'verloren': 1, 'leben,': 1, 'verletzt': 1, 'davon': 1, 'schwer.': 1, 'b': 1, 'voll': 1, 'gesperrt,': 1, 'verkehr': 1, 'umgeleitet.': 1, 'irgendwo': 1, 'bodensee,': 1, 'hegau': 1, 'linzgau': 1, 'geld': 1, 'amateurfußball': 1, 'diskutiert,': 1, 'meist': 1, 'türkische': 1, 'sv': 1, 'singen': 1, 'genannt.': 1, 'anhängern': 1, 'innig': 1, 'geliebt,': 1, 'gegnern': 1, 'oft': 1, 'kritisiert': 1, 'gehen': 1, 'macher': 1, 'fußballvereins': 1, 'vorwürfen': 1, 'um.': 1, 'gesprengte': 1, 'rechte': 1, 'terrorgruppe': 1, 'verbindungen': 1, 'region.': 1, 'kopf': 1, 'nazi-zelle': 1, 'kontakt': 1, 'thomas': 1, 'lohr,': 1, 'wortführer': 1, 'rechtsextremen': 1, '„wodans': 1, 'erben': 1, 'germania“': 1, '(weg).': 1, 'lohr': 1, 'wohnt': 1, 'wallhausen,': 1, 'treffen': 1, 'gab.': 1, 'gehören': 1, 'verhafteten': 1, 'terrorverdächtigen': 1, 'an.': 1, 'ende': 1, 'april': 1, '2021': 1, 'schweizerische': 1, 'nationalbank': 1, 'geldscheine': 1, 'achten': 1, 'zurückgerufen.': 1, 'supermärkten': 1, 'kann': 1, 'seither': 1, 'noten': 1, 'bezahlt': 1, 'werden.': 1, 'mache': 1, 'ich,': 1, 'wenn': 1, 'ich': 1, 'alten': 1, 'serie': 1, 'besitze?': 1, 'wann': 1, 'können': 1, 'notenserie': 1, 'umgetauscht': 1, 'werden?': 1, 'zweijähriger': 1, 'pandemie-pause': 1, 'zweitägiges': 1, 'festival': 1, 'bodensee-stadion.': 1, 'ersten': 1, 'abend': 1, 'kritik': 1, 'organisation,': 1, 'stimmung': 1, 'danach': 1, 'trotzdem': 1, 'gut': 1, 'zufrieden.': 1, 'eigentlich': 1, 'hätten': 1, '2022': 1, 'veranstaltungen': 1, 'plan': 1, 'gestanden,': 1, 'denen': 1, 'narren': 1, 'fasnet': 1, 'feiern': 1, 'können.': 1, 'events': 1, 'wegen': 1, 'corona-pandemie': 1, 'statt.': 1, 'motto': 1, '„allen': 1, 'wohl': 1, 'niemand': 1, 'weh!“': 1, 'kleine': 1, 'aktionen': 1, 'geplant.': 1})\n"
     ]
    }
   ],
   "metadata": {}
  },
  {
   "cell_type": "code",
   "execution_count": 75,
   "source": [
    "alle_articles[~alle_articles['og-title'].str.contains('Corona:')].nlargest(10, 'Visitors')['og-image']"
   ],
   "outputs": [
    {
     "output_type": "execute_result",
     "data": {
      "text/plain": [
       "19455    https://www.suedkurier.de/storage/image/9/5/9/...\n",
       "18384    https://www.suedkurier.de/storage/image/5/9/1/...\n",
       "21147    https://www.suedkurier.de/storage/image/1/0/3/...\n",
       "22296    https://www.suedkurier.de/storage/image/7/5/5/...\n",
       "13709    https://www.suedkurier.de/storage/image/0/8/9/...\n",
       "18832    https://www.suedkurier.de/storage/image/6/6/7/...\n",
       "14199    https://www.suedkurier.de/storage/image/3/8/6/...\n",
       "9009     https://www.suedkurier.de/storage/image/4/3/3/...\n",
       "16317    https://www.suedkurier.de/storage/image/7/7/3/...\n",
       "9563     https://www.suedkurier.de/storage/image/9/0/1/...\n",
       "Name: og-image, dtype: object"
      ]
     },
     "metadata": {},
     "execution_count": 75
    }
   ],
   "metadata": {}
  },
  {
   "cell_type": "code",
   "execution_count": 76,
   "source": [
    "for im in alle_articles[~alle_articles['og-title'].str.contains('Corona:')].nlargest(10, 'Visitors')['og-image']:\n",
    "    print(im)"
   ],
   "outputs": [
    {
     "output_type": "stream",
     "name": "stdout",
     "text": [
      "https://www.suedkurier.de/storage/image/9/5/9/1/13151959_shift-1200x0_1wuqJ9_jGvyWQ.jpg\n",
      "https://www.suedkurier.de/storage/image/5/9/1/5/13185195_shift-1200x0_1wKfk__GMWBxv.jpg\n",
      "https://www.suedkurier.de/storage/image/1/0/3/7/13087301_shift-1200x0_1w2HV-_PAoEqh.jpg\n",
      "https://www.suedkurier.de/storage/image/7/5/5/1/13021557_shift-1200x0_1vCnzD_9eO6b0.jpg\n",
      "https://www.suedkurier.de/storage/image/0/8/9/7/13327980_shift-1200x0_1xEgYR_WZnygP.jpg\n",
      "https://www.suedkurier.de/storage/image/6/6/7/8/12918766_shift-1200x0_1wD0Ga_LpcFDM.jpg\n",
      "https://www.suedkurier.de/storage/image/3/8/6/5/13045683_shift-1200x0_1vLdBJ_aj1j9Q.jpg\n",
      "https://www.suedkurier.de/storage/image/4/3/3/2/13422334_shift-1200x0_1yudk__n964kc.jpg\n",
      "https://www.suedkurier.de/storage/image/7/7/3/8/13248377_shift-1200x0_1x8hGh_ritTnp.jpg\n",
      "https://www.suedkurier.de/storage/image/9/0/1/4/13414109_shift-1200x0_1yc7bI_DS9sxa.jpg\n"
     ]
    }
   ],
   "metadata": {}
  },
  {
   "cell_type": "code",
   "execution_count": 80,
   "source": [
    "alle_articles[~alle_articles['og-title'].str.contains('Corona')].nlargest(10, 'Onlinekäufe Abo (im Visit)')"
   ],
   "outputs": [
    {
     "output_type": "execute_result",
     "data": {
      "text/html": [
       "<div>\n",
       "<style scoped>\n",
       "    .dataframe tbody tr th:only-of-type {\n",
       "        vertical-align: middle;\n",
       "    }\n",
       "\n",
       "    .dataframe tbody tr th {\n",
       "        vertical-align: top;\n",
       "    }\n",
       "\n",
       "    .dataframe thead th {\n",
       "        text-align: right;\n",
       "    }\n",
       "</style>\n",
       "<table border=\"1\" class=\"dataframe\">\n",
       "  <thead>\n",
       "    <tr style=\"text-align: right;\">\n",
       "      <th></th>\n",
       "      <th>articleid</th>\n",
       "      <th>charactercount</th>\n",
       "      <th>wordcount</th>\n",
       "      <th>skr-amountimages</th>\n",
       "      <th>skr-amounttext</th>\n",
       "      <th>teaser</th>\n",
       "      <th>publishtime</th>\n",
       "      <th>og-title</th>\n",
       "      <th>og-image</th>\n",
       "      <th>Visits Gesamt</th>\n",
       "      <th>...</th>\n",
       "      <th>Visitors</th>\n",
       "      <th>Visitor, Artikel zu 25% gelesen</th>\n",
       "      <th>Visitor, Artikel zu 50% gelesen</th>\n",
       "      <th>Visitor, Artikel zu 75% gelesen</th>\n",
       "      <th>Visitor, Artikel zu 100% gelesen</th>\n",
       "      <th>Score_Summe_Gesamt</th>\n",
       "      <th>Abonnenten, SK Gesamt (Basis, Digital und Print)</th>\n",
       "      <th>Unnamed: 0</th>\n",
       "      <th>kw-themencluster</th>\n",
       "      <th>anteil zuende</th>\n",
       "    </tr>\n",
       "  </thead>\n",
       "  <tbody>\n",
       "    <tr>\n",
       "      <th>10697</th>\n",
       "      <td>art5361219</td>\n",
       "      <td>902.0</td>\n",
       "      <td>162.0</td>\n",
       "      <td>NaN</td>\n",
       "      <td>NaN</td>\n",
       "      <td>Abo und Service: Telefon: 07531/999-4444, Mail...</td>\n",
       "      <td>2022-02-24T16:42:00.000Z</td>\n",
       "      <td>Kontakt</td>\n",
       "      <td>https://www.suedkurier.de/shift17/img/social-i...</td>\n",
       "      <td>91506.0</td>\n",
       "      <td>...</td>\n",
       "      <td>73184.0</td>\n",
       "      <td>8682.0</td>\n",
       "      <td>1194.0</td>\n",
       "      <td>3506.0</td>\n",
       "      <td>12712.0</td>\n",
       "      <td>NaN</td>\n",
       "      <td>11341.0</td>\n",
       "      <td>467</td>\n",
       "      <td>heimat</td>\n",
       "      <td>88.809713</td>\n",
       "    </tr>\n",
       "    <tr>\n",
       "      <th>25364</th>\n",
       "      <td>art10501273</td>\n",
       "      <td>2295.0</td>\n",
       "      <td>410.0</td>\n",
       "      <td>NaN</td>\n",
       "      <td>NaN</td>\n",
       "      <td>Die Allensbacherin Tanja Groß und ihr Schweize...</td>\n",
       "      <td>2020-04-25T07:00:00.000Z</td>\n",
       "      <td>Konstanz: Die Schweiz macht's möglich: Warum N...</td>\n",
       "      <td>https://www.suedkurier.de/storage/image/1/0/7/...</td>\n",
       "      <td>14818.0</td>\n",
       "      <td>...</td>\n",
       "      <td>13227.0</td>\n",
       "      <td>9.0</td>\n",
       "      <td>NaN</td>\n",
       "      <td>5.0</td>\n",
       "      <td>3154.0</td>\n",
       "      <td>80.25</td>\n",
       "      <td>614.0</td>\n",
       "      <td>202</td>\n",
       "      <td>heimat</td>\n",
       "      <td>30.335677</td>\n",
       "    </tr>\n",
       "    <tr>\n",
       "      <th>22995</th>\n",
       "      <td>art10586838</td>\n",
       "      <td>1058.0</td>\n",
       "      <td>186.0</td>\n",
       "      <td>15.0</td>\n",
       "      <td>0.0</td>\n",
       "      <td>Das große Straßenbauprojekt B33 ist in der ent...</td>\n",
       "      <td>2020-09-20T14:00:00.000Z</td>\n",
       "      <td>B33: Megaprojekt B33: Jahrzehnte der Planung, ...</td>\n",
       "      <td>https://www.suedkurier.de/storage/image/7/8/5/...</td>\n",
       "      <td>16846.0</td>\n",
       "      <td>...</td>\n",
       "      <td>13470.0</td>\n",
       "      <td>10.0</td>\n",
       "      <td>2.0</td>\n",
       "      <td>15.0</td>\n",
       "      <td>955.0</td>\n",
       "      <td>70.95</td>\n",
       "      <td>3912.0</td>\n",
       "      <td>120</td>\n",
       "      <td>verkehr</td>\n",
       "      <td>27.355234</td>\n",
       "    </tr>\n",
       "    <tr>\n",
       "      <th>25844</th>\n",
       "      <td>art10472352</td>\n",
       "      <td>5594.0</td>\n",
       "      <td>931.0</td>\n",
       "      <td>14.0</td>\n",
       "      <td>4.0</td>\n",
       "      <td>Seit Montagmorgen werden die Grenzen zwischen ...</td>\n",
       "      <td>2020-03-16T19:29:00.000Z</td>\n",
       "      <td>Konstanz/Kreuzlingen: Wir sind wieder getrennt...</td>\n",
       "      <td>https://www.suedkurier.de/storage/image/5/1/6/...</td>\n",
       "      <td>40355.0</td>\n",
       "      <td>...</td>\n",
       "      <td>35977.0</td>\n",
       "      <td>5932.0</td>\n",
       "      <td>111.0</td>\n",
       "      <td>2552.0</td>\n",
       "      <td>326.0</td>\n",
       "      <td>32.90</td>\n",
       "      <td>1640.0</td>\n",
       "      <td>231</td>\n",
       "      <td>heimat</td>\n",
       "      <td>87.077855</td>\n",
       "    </tr>\n",
       "    <tr>\n",
       "      <th>25885</th>\n",
       "      <td>art10472102</td>\n",
       "      <td>3207.0</td>\n",
       "      <td>616.0</td>\n",
       "      <td>4.0</td>\n",
       "      <td>2.0</td>\n",
       "      <td>Bis jetzt war es ein ganz normaler Sonntagsspa...</td>\n",
       "      <td>2020-03-15T19:45:00.000Z</td>\n",
       "      <td>Konstanz: Kurz vor 15 Uhr ist die Nachricht öf...</td>\n",
       "      <td>https://www.suedkurier.de/storage/image/2/6/7/...</td>\n",
       "      <td>17665.0</td>\n",
       "      <td>...</td>\n",
       "      <td>16906.0</td>\n",
       "      <td>11.0</td>\n",
       "      <td>1.0</td>\n",
       "      <td>19.0</td>\n",
       "      <td>7.0</td>\n",
       "      <td>34.80</td>\n",
       "      <td>1253.0</td>\n",
       "      <td>108</td>\n",
       "      <td>heimat</td>\n",
       "      <td>13.502603</td>\n",
       "    </tr>\n",
       "    <tr>\n",
       "      <th>11704</th>\n",
       "      <td>art11026381</td>\n",
       "      <td>1790.0</td>\n",
       "      <td>313.0</td>\n",
       "      <td>1.0</td>\n",
       "      <td>1.0</td>\n",
       "      <td>Völlig überraschend ist Dr. Winfried Potrzeba ...</td>\n",
       "      <td>2022-02-02T11:52:00.000Z</td>\n",
       "      <td>Pfullendorf: Pfullendorf trauert um Dr. Winfri...</td>\n",
       "      <td>https://www.suedkurier.de/storage/image/8/1/5/...</td>\n",
       "      <td>52088.0</td>\n",
       "      <td>...</td>\n",
       "      <td>47521.0</td>\n",
       "      <td>28.0</td>\n",
       "      <td>2.0</td>\n",
       "      <td>39.0</td>\n",
       "      <td>1.0</td>\n",
       "      <td>44.25</td>\n",
       "      <td>2474.0</td>\n",
       "      <td>309</td>\n",
       "      <td>politik</td>\n",
       "      <td>8.812420</td>\n",
       "    </tr>\n",
       "    <tr>\n",
       "      <th>19248</th>\n",
       "      <td>art10794875</td>\n",
       "      <td>8458.0</td>\n",
       "      <td>1458.0</td>\n",
       "      <td>1.0</td>\n",
       "      <td>7.0</td>\n",
       "      <td>Noch ist unklar, was den Tod konkret verursach...</td>\n",
       "      <td>2021-04-27T15:50:00.000Z</td>\n",
       "      <td>Gottmadingen/Singen: War sie ein Impf-Opfer? N...</td>\n",
       "      <td>https://www.suedkurier.de/storage/image/7/5/9/...</td>\n",
       "      <td>34865.0</td>\n",
       "      <td>...</td>\n",
       "      <td>30542.0</td>\n",
       "      <td>7.0</td>\n",
       "      <td>NaN</td>\n",
       "      <td>1.0</td>\n",
       "      <td>2422.0</td>\n",
       "      <td>77.35</td>\n",
       "      <td>7775.0</td>\n",
       "      <td>212</td>\n",
       "      <td>gesundheit</td>\n",
       "      <td>21.740554</td>\n",
       "    </tr>\n",
       "    <tr>\n",
       "      <th>6642</th>\n",
       "      <td>art11112542</td>\n",
       "      <td>3182.0</td>\n",
       "      <td>519.0</td>\n",
       "      <td>5.0</td>\n",
       "      <td>0.0</td>\n",
       "      <td>Nach dem spektakulären Polizeieinsatz in Konst...</td>\n",
       "      <td>2022-04-18T09:53:00.000Z</td>\n",
       "      <td>Konstanz: SEK-Einsatz in Konstanz: Festgenomme...</td>\n",
       "      <td>https://www.suedkurier.de/storage/image/4/9/9/...</td>\n",
       "      <td>35497.0</td>\n",
       "      <td>...</td>\n",
       "      <td>30618.0</td>\n",
       "      <td>121.0</td>\n",
       "      <td>9.0</td>\n",
       "      <td>117.0</td>\n",
       "      <td>11.0</td>\n",
       "      <td>77.30</td>\n",
       "      <td>4483.0</td>\n",
       "      <td>243</td>\n",
       "      <td>sicherheit</td>\n",
       "      <td>21.995232</td>\n",
       "    </tr>\n",
       "    <tr>\n",
       "      <th>25478</th>\n",
       "      <td>art10493224</td>\n",
       "      <td>817.0</td>\n",
       "      <td>141.0</td>\n",
       "      <td>1.0</td>\n",
       "      <td>2.0</td>\n",
       "      <td>Der seit dem 23. Oktober 2019 verschwundene Ca...</td>\n",
       "      <td>2020-04-15T06:59:00.000Z</td>\n",
       "      <td>Illmensee: Gewissheit: Leiche des vermissten C...</td>\n",
       "      <td>https://www.suedkurier.de/storage/image/5/0/0/...</td>\n",
       "      <td>44031.0</td>\n",
       "      <td>...</td>\n",
       "      <td>42387.0</td>\n",
       "      <td>9.0</td>\n",
       "      <td>NaN</td>\n",
       "      <td>5.0</td>\n",
       "      <td>14.0</td>\n",
       "      <td>91.60</td>\n",
       "      <td>740.0</td>\n",
       "      <td>131</td>\n",
       "      <td>sicherheit</td>\n",
       "      <td>4.369264</td>\n",
       "    </tr>\n",
       "    <tr>\n",
       "      <th>26966</th>\n",
       "      <td>art10404233</td>\n",
       "      <td>4093.0</td>\n",
       "      <td>797.0</td>\n",
       "      <td>NaN</td>\n",
       "      <td>NaN</td>\n",
       "      <td>Hans Pannwitz will mit dem Gang in die Öffentl...</td>\n",
       "      <td>2020-01-12T06:00:00.000Z</td>\n",
       "      <td>Konstanz: Ein Konstanzer erzählt vom Suizid se...</td>\n",
       "      <td>https://www.suedkurier.de/storage/image/2/6/2/...</td>\n",
       "      <td>15766.0</td>\n",
       "      <td>...</td>\n",
       "      <td>14139.0</td>\n",
       "      <td>38.0</td>\n",
       "      <td>5.0</td>\n",
       "      <td>31.0</td>\n",
       "      <td>42.0</td>\n",
       "      <td>38.50</td>\n",
       "      <td>2659.0</td>\n",
       "      <td>115</td>\n",
       "      <td>heimat</td>\n",
       "      <td>31.625292</td>\n",
       "    </tr>\n",
       "  </tbody>\n",
       "</table>\n",
       "<p>10 rows × 23 columns</p>\n",
       "</div>"
      ],
      "text/plain": [
       "         articleid  charactercount  wordcount  skr-amountimages  \\\n",
       "10697   art5361219           902.0      162.0               NaN   \n",
       "25364  art10501273          2295.0      410.0               NaN   \n",
       "22995  art10586838          1058.0      186.0              15.0   \n",
       "25844  art10472352          5594.0      931.0              14.0   \n",
       "25885  art10472102          3207.0      616.0               4.0   \n",
       "11704  art11026381          1790.0      313.0               1.0   \n",
       "19248  art10794875          8458.0     1458.0               1.0   \n",
       "6642   art11112542          3182.0      519.0               5.0   \n",
       "25478  art10493224           817.0      141.0               1.0   \n",
       "26966  art10404233          4093.0      797.0               NaN   \n",
       "\n",
       "       skr-amounttext                                             teaser  \\\n",
       "10697             NaN  Abo und Service: Telefon: 07531/999-4444, Mail...   \n",
       "25364             NaN  Die Allensbacherin Tanja Groß und ihr Schweize...   \n",
       "22995             0.0  Das große Straßenbauprojekt B33 ist in der ent...   \n",
       "25844             4.0  Seit Montagmorgen werden die Grenzen zwischen ...   \n",
       "25885             2.0  Bis jetzt war es ein ganz normaler Sonntagsspa...   \n",
       "11704             1.0  Völlig überraschend ist Dr. Winfried Potrzeba ...   \n",
       "19248             7.0  Noch ist unklar, was den Tod konkret verursach...   \n",
       "6642              0.0  Nach dem spektakulären Polizeieinsatz in Konst...   \n",
       "25478             2.0  Der seit dem 23. Oktober 2019 verschwundene Ca...   \n",
       "26966             NaN  Hans Pannwitz will mit dem Gang in die Öffentl...   \n",
       "\n",
       "                    publishtime  \\\n",
       "10697  2022-02-24T16:42:00.000Z   \n",
       "25364  2020-04-25T07:00:00.000Z   \n",
       "22995  2020-09-20T14:00:00.000Z   \n",
       "25844  2020-03-16T19:29:00.000Z   \n",
       "25885  2020-03-15T19:45:00.000Z   \n",
       "11704  2022-02-02T11:52:00.000Z   \n",
       "19248  2021-04-27T15:50:00.000Z   \n",
       "6642   2022-04-18T09:53:00.000Z   \n",
       "25478  2020-04-15T06:59:00.000Z   \n",
       "26966  2020-01-12T06:00:00.000Z   \n",
       "\n",
       "                                                og-title  \\\n",
       "10697                                            Kontakt   \n",
       "25364  Konstanz: Die Schweiz macht's möglich: Warum N...   \n",
       "22995  B33: Megaprojekt B33: Jahrzehnte der Planung, ...   \n",
       "25844  Konstanz/Kreuzlingen: Wir sind wieder getrennt...   \n",
       "25885  Konstanz: Kurz vor 15 Uhr ist die Nachricht öf...   \n",
       "11704  Pfullendorf: Pfullendorf trauert um Dr. Winfri...   \n",
       "19248  Gottmadingen/Singen: War sie ein Impf-Opfer? N...   \n",
       "6642   Konstanz: SEK-Einsatz in Konstanz: Festgenomme...   \n",
       "25478  Illmensee: Gewissheit: Leiche des vermissten C...   \n",
       "26966  Konstanz: Ein Konstanzer erzählt vom Suizid se...   \n",
       "\n",
       "                                                og-image  Visits Gesamt  ...  \\\n",
       "10697  https://www.suedkurier.de/shift17/img/social-i...        91506.0  ...   \n",
       "25364  https://www.suedkurier.de/storage/image/1/0/7/...        14818.0  ...   \n",
       "22995  https://www.suedkurier.de/storage/image/7/8/5/...        16846.0  ...   \n",
       "25844  https://www.suedkurier.de/storage/image/5/1/6/...        40355.0  ...   \n",
       "25885  https://www.suedkurier.de/storage/image/2/6/7/...        17665.0  ...   \n",
       "11704  https://www.suedkurier.de/storage/image/8/1/5/...        52088.0  ...   \n",
       "19248  https://www.suedkurier.de/storage/image/7/5/9/...        34865.0  ...   \n",
       "6642   https://www.suedkurier.de/storage/image/4/9/9/...        35497.0  ...   \n",
       "25478  https://www.suedkurier.de/storage/image/5/0/0/...        44031.0  ...   \n",
       "26966  https://www.suedkurier.de/storage/image/2/6/2/...        15766.0  ...   \n",
       "\n",
       "       Visitors  Visitor, Artikel zu 25% gelesen  \\\n",
       "10697   73184.0                           8682.0   \n",
       "25364   13227.0                              9.0   \n",
       "22995   13470.0                             10.0   \n",
       "25844   35977.0                           5932.0   \n",
       "25885   16906.0                             11.0   \n",
       "11704   47521.0                             28.0   \n",
       "19248   30542.0                              7.0   \n",
       "6642    30618.0                            121.0   \n",
       "25478   42387.0                              9.0   \n",
       "26966   14139.0                             38.0   \n",
       "\n",
       "       Visitor, Artikel zu 50% gelesen  Visitor, Artikel zu 75% gelesen  \\\n",
       "10697                           1194.0                           3506.0   \n",
       "25364                              NaN                              5.0   \n",
       "22995                              2.0                             15.0   \n",
       "25844                            111.0                           2552.0   \n",
       "25885                              1.0                             19.0   \n",
       "11704                              2.0                             39.0   \n",
       "19248                              NaN                              1.0   \n",
       "6642                               9.0                            117.0   \n",
       "25478                              NaN                              5.0   \n",
       "26966                              5.0                             31.0   \n",
       "\n",
       "       Visitor, Artikel zu 100% gelesen  Score_Summe_Gesamt  \\\n",
       "10697                           12712.0                 NaN   \n",
       "25364                            3154.0               80.25   \n",
       "22995                             955.0               70.95   \n",
       "25844                             326.0               32.90   \n",
       "25885                               7.0               34.80   \n",
       "11704                               1.0               44.25   \n",
       "19248                            2422.0               77.35   \n",
       "6642                               11.0               77.30   \n",
       "25478                              14.0               91.60   \n",
       "26966                              42.0               38.50   \n",
       "\n",
       "       Abonnenten, SK Gesamt (Basis, Digital und Print)  Unnamed: 0  \\\n",
       "10697                                           11341.0         467   \n",
       "25364                                             614.0         202   \n",
       "22995                                            3912.0         120   \n",
       "25844                                            1640.0         231   \n",
       "25885                                            1253.0         108   \n",
       "11704                                            2474.0         309   \n",
       "19248                                            7775.0         212   \n",
       "6642                                             4483.0         243   \n",
       "25478                                             740.0         131   \n",
       "26966                                            2659.0         115   \n",
       "\n",
       "       kw-themencluster  anteil zuende  \n",
       "10697            heimat      88.809713  \n",
       "25364            heimat      30.335677  \n",
       "22995           verkehr      27.355234  \n",
       "25844            heimat      87.077855  \n",
       "25885            heimat      13.502603  \n",
       "11704           politik       8.812420  \n",
       "19248        gesundheit      21.740554  \n",
       "6642         sicherheit      21.995232  \n",
       "25478        sicherheit       4.369264  \n",
       "26966            heimat      31.625292  \n",
       "\n",
       "[10 rows x 23 columns]"
      ]
     },
     "metadata": {},
     "execution_count": 80
    }
   ],
   "metadata": {}
  },
  {
   "cell_type": "code",
   "execution_count": null,
   "source": [],
   "outputs": [],
   "metadata": {}
  }
 ],
 "metadata": {
  "orig_nbformat": 4,
  "language_info": {
   "name": "python",
   "version": "3.6.13",
   "mimetype": "text/x-python",
   "codemirror_mode": {
    "name": "ipython",
    "version": 3
   },
   "pygments_lexer": "ipython3",
   "nbconvert_exporter": "python",
   "file_extension": ".py"
  },
  "kernelspec": {
   "name": "python3",
   "display_name": "Python 3.6.13 64-bit ('venv': conda)"
  },
  "interpreter": {
   "hash": "c79e33bd1528671947ab7b8c77d0174fef1e8d761660a77d29195d43a6f549c0"
  }
 },
 "nbformat": 4,
 "nbformat_minor": 2
}